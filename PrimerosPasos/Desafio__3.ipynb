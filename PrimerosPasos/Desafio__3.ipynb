{
  "cells": [
    {
      "cell_type": "markdown",
      "metadata": {
        "colab_type": "text",
        "id": "view-in-github"
      },
      "source": [
        "<a href=\"https://colab.research.google.com/github/MacarenaQuijadaG/Python_Ejercicios/blob/main/Desafio__3.ipynb\" target=\"_parent\"><img src=\"https://colab.research.google.com/assets/colab-badge.svg\" alt=\"Open In Colab\"/></a>"
      ]
    },
    {
      "cell_type": "markdown",
      "metadata": {
        "id": "34jStBdsGTk8"
      },
      "source": [
        "# **Desafio 3**"
      ]
    },
    {
      "cell_type": "markdown",
      "metadata": {
        "id": "QjU95HxHFUmX"
      },
      "source": [
        "\n",
        "1 - Escribe un programa que solicite dos números enteros e imprima todos los números enteros entre ellos.\n",
        "otos y el porcentaje de votos en blanco con respecto al total de votos."
      ]
    },
    {
      "cell_type": "code",
      "execution_count": null,
      "metadata": {
        "id": "2koT6-abFMyq"
      },
      "outputs": [],
      "source": [
        "numero1 = int(input(\"Ingresa el primer número entero: \"))\n",
        "numero2 = int(input(\"Ingresa el segundo número entero: \"))\n",
        "\n",
        "if numero1 < numero2:\n",
        "    print(f\"Los números entre {numero1} y {numero2} son:\")\n",
        "    for i in range(numero1 + 1, numero2):  \n",
        "        print(i)\n",
        "elif numero1 > numero2:\n",
        "    print(f\"Los números entre {numero2} y {numero1} son:\")\n",
        "    for i in range(numero2 + 1, numero1): \n",
        "        print(i)\n",
        "else:\n",
        "    print(\"Los números ingresados son iguales, no hay números entre ellos.\")\n",
        "\n",
        "total_votos = int(input(\"Ingresa el total de votos: \"))\n",
        "votos_blanco = int(input(\"Ingresa el número de votos en blanco: \"))\n",
        "\n",
        "if total_votos > 0:  \n",
        "    porcentaje_blanco = (votos_blanco / total_votos) * 100\n",
        "    print(f\"El porcentaje de votos en blanco es: {porcentaje_blanco:.2f}%\")\n",
        "else:\n",
        "    print(\"El total de votos no puede ser cero.\")"
      ]
    },
    {
      "cell_type": "markdown",
      "metadata": {
        "id": "Wk4sQkLrFexs"
      },
      "source": [
        "2 - Escribe un programa para calcular cuántos días tomará que la colonia de una bacteria A supere o iguale a la colonia de una bacteria B, basado en tasas de crecimiento del 3% y 1.5%, respectivamente. Supón que la colonia A comienza con 4 elementos y B con 10.\n",
        "\n"
      ]
    },
    {
      "cell_type": "code",
      "execution_count": null,
      "metadata": {
        "id": "G5DeFjxoGNY8"
      },
      "outputs": [],
      "source": [
        "\n",
        "bacteria_A = 4  \n",
        "bacteria_B = 10  \n",
        "tasa_A = 0.03  \n",
        "tasa_B = 0.015  \n",
        "dias = 0  \n",
        "\n",
        "while bacteria_A < bacteria_B:\n",
        "   \n",
        "    bacteria_A += bacteria_A * tasa_A \n",
        "    bacteria_B += bacteria_B * tasa_B  \n",
        "    dias += 1  \n",
        "\n",
        "print(f\"Después de {dias} días, la colonia A tendrá {bacteria_A:.2f} elementos y la colonia B tendrá {bacteria_B:.2f} elementos.\")\n"
      ]
    },
    {
      "cell_type": "markdown",
      "metadata": {
        "id": "5Y_A_FrIFiCJ"
      },
      "source": [
        "3 - Para procesar una cantidad de 15 datos de evaluaciones de usuarios de un servicio de la empresa, necesitamos verificar si las calificaciones son válidas. Por lo tanto, escribe un programa que recibirá calificaciones del 0 al 5 y verificará si son valores válidos. Si se ingresa una calificación superior a 5 o inferior a 0, se repetirá hasta que el usuario ingrese un valor válido.\n",
        "\n"
      ]
    },
    {
      "cell_type": "code",
      "execution_count": null,
      "metadata": {
        "id": "Bb2IZkalGMRz"
      },
      "outputs": [],
      "source": [
        "\n",
        "calificaciones = []\n",
        "\n",
        "while len(calificaciones) < 15:\n",
        "    try:\n",
        "        calificacion = float(input(f\"Ingrese la calificación #{len(calificaciones) + 1} (entre 0 y 5): \"))\n",
        "    \n",
        "        if 0 <= calificacion <= 5:\n",
        "            calificaciones.append(calificacion)\n",
        "        else:\n",
        "            print(\"¡Calificación inválida! Debe estar entre 0 y 5.\")\n",
        "    except ValueError:\n",
        "       \n",
        "        print(\"¡Entrada inválida! Por favor ingrese un número.\")\n",
        "\n",
        "print(\"\\nCalificaciones válidas ingresadas:\")\n",
        "for i, calificacion in enumerate(calificaciones, 1):\n",
        "    print(f\"Calificación #{i}: {calificacion}\")\n"
      ]
    },
    {
      "cell_type": "markdown",
      "metadata": {
        "id": "7SkxkjbVFkGZ"
      },
      "source": [
        "4 - Desarrolla un programa que lea un conjunto indefinido de temperaturas en grados Celsius y calcule su promedio. La lectura debe detenerse al ingresar el valor -273°C.\n",
        "\n"
      ]
    },
    {
      "cell_type": "code",
      "execution_count": null,
      "metadata": {
        "id": "VWZjG-NZGL8Z"
      },
      "outputs": [],
      "source": [
        "suma_temperaturas = 0\n",
        "contador = 0\n",
        "\n",
        "while True:\n",
        "    try:\n",
        "        temperatura = float(input(\"Ingrese una temperatura en grados Celsius (-273 para terminar): \"))\n",
        "        \n",
        "        if temperatura == -273:\n",
        "            break\n",
        "        \n",
        "        suma_temperaturas += temperatura\n",
        "        contador += 1\n",
        "    except ValueError:\n",
        "       \n",
        "        print(\"¡Por favor, ingrese un número válido para la temperatura!\")\n",
        "\n",
        "if contador > 0:\n",
        "    promedio = suma_temperaturas / contador\n",
        "    print(f\"\\nEl promedio de las temperaturas ingresadas es: {promedio:.2f}°C\")\n",
        "else:\n",
        "    print(\"\\nNo se ingresaron temperaturas válidas.\")"
      ]
    },
    {
      "cell_type": "markdown",
      "metadata": {
        "id": "4K98WHJ0Fmcq"
      },
      "source": [
        "5 - Escribe un programa que calcule el factorial de un número entero proporcionado por el usuario. Recuerda que el factorial de un número entero es el producto de ese número por todos sus antecesores hasta llegar al número 1. Por ejemplo, el factorial de 5 es 5 x 4 x 3 x 2 x 1 = 120.\n",
        "\n"
      ]
    },
    {
      "cell_type": "code",
      "execution_count": null,
      "metadata": {
        "id": "Ob_xKPDUGKTc"
      },
      "outputs": [],
      "source": [
        "\n",
        "numero = int(input(\"Ingresa un número entero para calcular su factorial: \"))\n",
        "\n",
        "if numero < 0:\n",
        "    print(\"El factorial no está definido para números negativos.\")\n",
        "else:\n",
        "    \n",
        "    factorial = 1\n",
        "    for i in range(1, numero + 1):\n",
        "        factorial *= i \n",
        "\n",
        "    print(f\"El factorial de {numero} es: {factorial}\")\n"
      ]
    },
    {
      "cell_type": "markdown",
      "metadata": {
        "id": "YTKfoBFUFpwy"
      },
      "source": [
        "6 - Escribe un programa que genere la tabla de multiplicar de un número entero del 1 al 10, según la elección del usuario. Como ejemplo, para el número 2, la tabla de multiplicar debe mostrarse en el siguiente formato:\n",
        "\n",
        "\n",
        "*   Tabla de multiplicar del 2: 2 x 1 = 2 2 x 2 = 4 [...] 2 x 10 = 20\n",
        "\n",
        "\n",
        "\n",
        "\n"
      ]
    },
    {
      "cell_type": "code",
      "execution_count": null,
      "metadata": {
        "id": "f4yiGvtrGJ1g"
      },
      "outputs": [],
      "source": [
        "numero = int(input(\"Ingresa un número para generar su tabla de multiplicar: \"))\n",
        "\n",
        "print(f\"Tabla de multiplicar del {numero}:\")\n",
        "for i in range(1, 11): \n",
        "    resultado = numero * i\n",
        "    print(f\"{numero} x {i} = {resultado}\")"
      ]
    },
    {
      "cell_type": "markdown",
      "metadata": {
        "id": "QAX3DuopGBHm"
      },
      "source": [
        "7 - Los números primos tienen diversas aplicaciones en Ciencia de Datos, como en criptografía y seguridad. Un número primo es aquel que es divisible solo por sí mismo y por 1. Por lo tanto, crea un programa que solicite un número entero y determine si es un número primo o no.\n",
        "\n"
      ]
    },
    {
      "cell_type": "code",
      "execution_count": null,
      "metadata": {
        "id": "ItnLRtcxGI-M"
      },
      "outputs": [],
      "source": [
        "\n",
        "numero = int(input(\"Ingresa un número entero para verificar si es primo: \"))\n",
        "\n",
        "if numero <= 1:\n",
        "    print(f\"{numero} no es un número primo.\")\n",
        "else:\n",
        "    es_primo = True  \n",
        "    for i in range(2, int(numero**0.5) + 1):  \n",
        "        if numero % i == 0:  \n",
        "            es_primo = False\n",
        "            break\n",
        "    \n",
        "    if es_primo:\n",
        "        print(f\"{numero} es un número primo.\")\n",
        "    else:\n",
        "        print(f\"{numero} no es un número primo.\")\n"
      ]
    },
    {
      "cell_type": "markdown",
      "metadata": {
        "id": "f_HYe57ZGDnG"
      },
      "source": [
        "8 - Vamos a comprender la distribución de edades de los pensionistas de una empresa de seguros. Escribe un programa que lea las edades de una cantidad no informada de clientes y muestre la distribución en los intervalos [0-25], [26-50], [51-75] y [76-100]. La entrada de datos se detendrá al ingresar un número negativo.\n",
        "\n"
      ]
    },
    {
      "cell_type": "code",
      "execution_count": null,
      "metadata": {
        "id": "Cb4eGf1SGHsx"
      },
      "outputs": [],
      "source": [
        "intervalo_0_25 = 0\n",
        "intervalo_26_50 = 0\n",
        "intervalo_51_75 = 0\n",
        "intervalo_76_100 = 0\n",
        "\n",
        "while True:\n",
        "    try:\n",
        "        edad = int(input(\"Ingresa la edad del cliente (número negativo para terminar): \"))\n",
        "        \n",
        "        if edad < 0:\n",
        "            break\n",
        "     \n",
        "        if 0 <= edad <= 25:\n",
        "            intervalo_0_25 += 1\n",
        "        elif 26 <= edad <= 50:\n",
        "            intervalo_26_50 += 1\n",
        "        elif 51 <= edad <= 75:\n",
        "            intervalo_51_75 += 1\n",
        "        elif 76 <= edad <= 100:\n",
        "            intervalo_76_100 += 1\n",
        "        else:\n",
        "            print(\"Edad fuera del rango esperado (0-100).\")\n",
        "    \n",
        "    except ValueError:\n",
        "       \n",
        "        print(\"¡Por favor, ingrese un número válido para la edad!\")\n",
        "\n",
        "\n",
        "print(\"\\nDistribución de edades:\")\n",
        "print(f\"[0-25]: {intervalo_0_25} clientes\")\n",
        "print(f\"[26-50]: {intervalo_26_50} clientes\")\n",
        "print(f\"[51-75]: {intervalo_51_75} clientes\")\n",
        "print(f\"[76-100]: {intervalo_76_100} clientes\")"
      ]
    },
    {
      "cell_type": "markdown",
      "metadata": {
        "id": "Z8b5R5TDGFmM"
      },
      "source": [
        "9 - En una elección para la gerencia de una empresa con 20 empleados, hay cuatro candidatos. Escribe un programa que calcule al ganador de la elección. La votación se realizó de la siguiente manera:\n",
        "\n",
        "Cada empleado votó por uno de los cuatro candidatos (representados por los números 1, 2, 3 y 4).\n",
        "\n",
        "También se contaron los votos nulos (representados por el número 5) y los votos en blanco (representados por el número 6).\n",
        "\n",
        "Al final de la votación, el programa debe mostrar el número total de votos para cada candidato, los votos nulos y los votos en blanco. Además, debe calcular y mostrar el porcentaje de votos nulos con respecto al total de votos y el porcentaje de votos en blanco con respecto al total de votos."
      ]
    },
    {
      "cell_type": "code",
      "execution_count": null,
      "metadata": {
        "id": "EYeGXNLzGIE5"
      },
      "outputs": [],
      "source": [
        "votos_candidatos = [0, 0, 0, 0] \n",
        "votos_nulos = 0\n",
        "votos_en_blanco = 0\n",
        "\n",
        "total_votantes = 20\n",
        "\n",
        "for i in range(total_votantes):\n",
        "    while True:\n",
        "        try:\n",
        "            voto = int(input(f\"Empleado {i + 1}, ingrese su voto (1-4 para candidatos, 5 para nulo, 6 para en blanco): \"))\n",
        "            \n",
        "            if voto == 1:\n",
        "                votos_candidatos[0] += 1\n",
        "                break\n",
        "            elif voto == 2:\n",
        "                votos_candidatos[1] += 1\n",
        "                break\n",
        "            elif voto == 3:\n",
        "                votos_candidatos[2] += 1\n",
        "                break\n",
        "            elif voto == 4:\n",
        "                votos_candidatos[3] += 1\n",
        "                break\n",
        "            elif voto == 5:\n",
        "                votos_nulos += 1\n",
        "                break\n",
        "            elif voto == 6:\n",
        "                votos_en_blanco += 1\n",
        "                break\n",
        "            else:\n",
        "                print(\"Voto inválido. Por favor, ingrese un número entre 1 y 6.\")\n",
        "        except ValueError:\n",
        "            print(\"¡Por favor, ingrese un número válido!\")\n",
        "\n",
        "total_votos = sum(votos_candidatos) + votos_nulos + votos_en_blanco\n",
        "\n",
        "porcentaje_nulos = (votos_nulos / total_votos) * 100\n",
        "porcentaje_blancos = (votos_en_blanco / total_votos) * 100\n",
        "\n",
        "print(\"\\nResultados de la elección:\")\n",
        "for i in range(4):\n",
        "    print(f\"Candidato {i + 1}: {votos_candidatos[i]} votos\")\n",
        "print(f\"Votos nulos: {votos_nulos} votos\")\n",
        "print(f\"Votos en blanco: {votos_en_blanco} votos\")\n",
        "print(f\"Porcentaje de votos nulos: {porcentaje_nulos:.2f}%\")\n",
        "print(f\"Porcentaje de votos en blanco: {porcentaje_blancos:.2f}%\")\n",
        "\n",
        "max_votos = max(votos_candidatos)\n",
        "if votos_candidatos.count(max_votos) > 1:\n",
        "    print(\"Hay un empate entre los candidatos.\")\n",
        "else:\n",
        "    ganador = votos_candidatos.index(max_votos) + 1\n",
        "    print(f\"\\nEl ganador de la elección es el Candidato {ganador}.\")\n"
      ]
    }
  ],
  "metadata": {
    "colab": {
      "authorship_tag": "ABX9TyMBJvPsRiFL0dHm7WVxLQr4",
      "include_colab_link": true,
      "provenance": []
    },
    "kernelspec": {
      "display_name": "Python 3",
      "name": "python3"
    },
    "language_info": {
      "name": "python"
    }
  },
  "nbformat": 4,
  "nbformat_minor": 0
}
