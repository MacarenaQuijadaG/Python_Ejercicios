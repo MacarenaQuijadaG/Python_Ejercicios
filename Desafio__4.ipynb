{
  "nbformat": 4,
  "nbformat_minor": 0,
  "metadata": {
    "colab": {
      "provenance": [],
      "authorship_tag": "ABX9TyNBvgLuPV+ZtQvCNrRieDFG",
      "include_colab_link": true
    },
    "kernelspec": {
      "name": "python3",
      "display_name": "Python 3"
    },
    "language_info": {
      "name": "python"
    }
  },
  "cells": [
    {
      "cell_type": "markdown",
      "metadata": {
        "id": "view-in-github",
        "colab_type": "text"
      },
      "source": [
        "<a href=\"https://colab.research.google.com/github/MacarenaQuijadaG/Python_Ejercicios/blob/main/Desafio__4.ipynb\" target=\"_parent\"><img src=\"https://colab.research.google.com/assets/colab-badge.svg\" alt=\"Open In Colab\"/></a>"
      ]
    },
    {
      "cell_type": "markdown",
      "source": [
        "# Desafio 4"
      ],
      "metadata": {
        "id": "39Aj-izXToy1"
      }
    },
    {
      "cell_type": "markdown",
      "source": [
        "1 - Haz un programa que solicite a la persona usuaria ingresar dos números decimales y calcular la división entre estos números. El código debe incluir un manejo de error, indicando el tipo de error que se generó si la división no es posible.\n",
        "\n",
        "Prueba el programa con el segundo valor numérico de la entrada igual a 0. También prueba usando caracteres textuales en la entrada para verificar los tipos de errores que ocurren."
      ],
      "metadata": {
        "id": "ymmM6hkaT1Tq"
      }
    },
    {
      "cell_type": "code",
      "execution_count": 2,
      "metadata": {
        "colab": {
          "base_uri": "https://localhost:8080/"
        },
        "id": "SmFkPuRoTn-a",
        "outputId": "d4412c3c-10b1-464f-b6de-b24d8af2bbf9"
      },
      "outputs": [
        {
          "output_type": "stream",
          "name": "stdout",
          "text": [
            "Ingresa el primer número decimal: 4.5\n",
            "Ingresa el segundo número decimal: 6.8\n",
            "El resultado de la división es: 0.66\n",
            "Programa finalizado.\n"
          ]
        }
      ],
      "source": [
        "try:\n",
        "    num1 = float(input(\"Ingresa el primer número decimal: \"))\n",
        "    num2 = float(input(\"Ingresa el segundo número decimal: \"))\n",
        "\n",
        "    resultado = num1 / num2\n",
        "    print(f\"El resultado de la división es: {resultado:.2f}\")\n",
        "\n",
        "except ZeroDivisionError as e:\n",
        "    print(f\"Error: No se puede dividir por cero. ({type(e).__name__})\")\n",
        "\n",
        "except ValueError as e:\n",
        "    print(f\"Error: Entrada inválida. Debes ingresar números decimales. ({type(e).__name__})\")\n",
        "\n",
        "except Exception as e:\n",
        "    print(f\"Ocurrió un error inesperado: {type(e).__name__} - {e}\")\n",
        "\n",
        "finally:\n",
        "    print(\"Programa finalizado.\")\n"
      ]
    },
    {
      "cell_type": "markdown",
      "source": [
        "2 - Haz un programa que solicite a la persona usuaria ingresar un texto que será una clave a buscar en el siguiente diccionario: edades = {'Júlia': 16, 'Carol': 23, 'Alberto': 19, 'Roberta': 17}, almacenando el resultado del valor en una variable. El código debe incluir un manejo de error KeyError, imprimiendo la información 'Nombre no encontrado' en caso de error, e imprimir el valor si no ocurre ninguno.\n",
        "\n",
        "Prueba el programa con un nombre presente en una de las claves del diccionario y con uno que no esté en el diccionario para verificar el mensaje de error."
      ],
      "metadata": {
        "id": "uACIhr1wUFuY"
      }
    },
    {
      "cell_type": "code",
      "source": [
        "edades = {'Júlia': 16, 'Carol': 23, 'Alberto': 19, 'Roberta': 17}\n",
        "\n",
        "try:\n",
        "    nombre = input(\"Ingresa un nombre para consultar la edad: \")\n",
        "    edad = edades[nombre]\n",
        "    print(f\"La edad de {nombre} es: {edad} años.\")\n",
        "\n",
        "except KeyError:\n",
        "    print(\"Nombre no encontrado.\")\n",
        "\n",
        "finally:\n",
        "    print(\"Consulta finalizada.\")\n"
      ],
      "metadata": {
        "colab": {
          "base_uri": "https://localhost:8080/"
        },
        "id": "Gsfgq84qUG0C",
        "outputId": "37b024e6-4c10-4cb8-c935-966889da4f01"
      },
      "execution_count": 4,
      "outputs": [
        {
          "output_type": "stream",
          "name": "stdout",
          "text": [
            "Ingresa un nombre para consultar la edad: Carol\n",
            "La edad de Carol es: 23 años.\n",
            "Consulta finalizada.\n"
          ]
        }
      ]
    },
    {
      "cell_type": "markdown",
      "source": [
        "3 - Crea una función que reciba una lista como parámetro y convierta todos los valores de la lista a flotantes. La función debe incluir un manejo de error indicando el tipo de error generado y devolver la lista si no ha ocurrido ningún error. Por último, debe tener la cláusula finally para imprimir el texto: 'Fin de la ejecución de la función'."
      ],
      "metadata": {
        "id": "04ECAZTHUQEi"
      }
    },
    {
      "cell_type": "code",
      "source": [
        "def convertir_a_flotantes(lista):\n",
        "    try:\n",
        "        nueva_lista = [float(x) for x in lista]\n",
        "        return nueva_lista\n",
        "\n",
        "    except ValueError as e:\n",
        "        print(f\"Error: No se puede convertir uno de los elementos. ({type(e).__name__})\")\n",
        "\n",
        "    except TypeError as e:\n",
        "        print(f\"Error: Tipo de dato inválido en la lista. ({type(e).__name__})\")\n",
        "\n",
        "    finally:\n",
        "        print(\"Fin de la ejecución de la función.\")\n"
      ],
      "metadata": {
        "id": "XEA5zyGYUVnT"
      },
      "execution_count": 6,
      "outputs": []
    },
    {
      "cell_type": "code",
      "source": [
        "resultado = convertir_a_flotantes([10, \"20.5\", 3])\n",
        "print(resultado)"
      ],
      "metadata": {
        "colab": {
          "base_uri": "https://localhost:8080/"
        },
        "id": "aXypBm-qUj4q",
        "outputId": "f2d0e000-fbfa-45ce-e236-7caeabec1b98"
      },
      "execution_count": 7,
      "outputs": [
        {
          "output_type": "stream",
          "name": "stdout",
          "text": [
            "Fin de la ejecución de la función.\n",
            "[10.0, 20.5, 3.0]\n"
          ]
        }
      ]
    },
    {
      "cell_type": "markdown",
      "source": [
        "4 - Crea una función que reciba dos listas como parámetros y agrupe los elementos uno a uno de las listas, formando una lista de tuplas de 3 elementos. El primer y segundo elemento de la tupla son los valores en la posición i de las listas y el tercer elemento es la suma de los valores en la posición i de las listas.\n",
        "\n",
        "* La función debe incluir un manejo de error indicando el tipo de error generado y devolver como resultado la lista de tuplas. Si las listas enviadas como parámetro tienen tamaños diferentes, la función debe devolver un IndexError con la frase: 'La cantidad de elementos en cada lista es diferente.'.\n",
        "\n",
        "* Datos para probar la función:\n",
        "\n",
        "* Valores sin error:\n",
        "\n",
        "lista1 = [4, 6, 7, 9, 10]\n",
        "lista2 = [-4, 6, 8, 7, 9]\n",
        "Listas con tamaños diferentes:\n",
        "\n",
        "lista1 = [4, 6, 7, 9, 10, 4]\n",
        "lista2 = [-4, 6, 8, 7, 9]\n",
        "Listas con valores incoherentes:\n",
        "\n",
        "lista1 = [4, 6, 7, 9, 'A']\n",
        "lista2 = [-4, 'E', 8, 7, 9]"
      ],
      "metadata": {
        "id": "7PJA0VxcUV96"
      }
    },
    {
      "cell_type": "code",
      "source": [
        "def agrupar_y_sumar(lista1, lista2):\n",
        "    resultado = []\n",
        "\n",
        "    try:\n",
        "        if len(lista1) != len(lista2):\n",
        "            raise IndexError(\"La cantidad de elementos en cada lista es diferente.\")\n",
        "\n",
        "        for i in range(len(lista1)):\n",
        "            suma = lista1[i] + lista2[i]\n",
        "            resultado.append((lista1[i], lista2[i], suma))\n",
        "\n",
        "    except IndexError as e:\n",
        "        print(f\"Error: {e}\")\n",
        "    except TypeError as e:\n",
        "        print(f\"Error de tipo de dato: {type(e).__name__} - {e}\")\n",
        "    except ValueError as e:\n",
        "        print(f\"Error de valor: {type(e).__name__} - {e}\")\n",
        "    finally:\n",
        "        print(\"Fin de la ejecución de la función.\")\n",
        "        return resultado\n",
        "\n",
        "# Caso 1: Listas válidas\n",
        "print(\"CASO 1 - SIN ERRORES:\")\n",
        "lista1 = [4, 6, 7, 9, 10]\n",
        "lista2 = [-4, 6, 8, 7, 9]\n",
        "print(agrupar_y_sumar(lista1, lista2))\n",
        "print()\n",
        "\n",
        "# Caso 2: Listas con tamaños diferentes\n",
        "print(\"CASO 2 - TAMAÑOS DIFERENTES:\")\n",
        "lista1 = [4, 6, 7, 9, 10, 4]\n",
        "lista2 = [-4, 6, 8, 7, 9]\n",
        "print(agrupar_y_sumar(lista1, lista2))\n",
        "print()\n",
        "\n",
        "# Caso 3: Valores no sumables\n",
        "print(\"CASO 3 - VALORES INCOHERENTES:\")\n",
        "lista1 = [4, 6, 7, 9, 'A']\n",
        "lista2 = [-4, 'E', 8, 7, 9]\n",
        "print(agrupar_y_sumar(lista1, lista2))\n"
      ],
      "metadata": {
        "colab": {
          "base_uri": "https://localhost:8080/"
        },
        "id": "CGA6Tn1mUwuD",
        "outputId": "315a4e0c-63a6-466e-e222-6cf95ff1ec67"
      },
      "execution_count": 9,
      "outputs": [
        {
          "output_type": "stream",
          "name": "stdout",
          "text": [
            "CASO 1 - SIN ERRORES:\n",
            "Fin de la ejecución de la función.\n",
            "[(4, -4, 0), (6, 6, 12), (7, 8, 15), (9, 7, 16), (10, 9, 19)]\n",
            "\n",
            "CASO 2 - TAMAÑOS DIFERENTES:\n",
            "Error: La cantidad de elementos en cada lista es diferente.\n",
            "Fin de la ejecución de la función.\n",
            "[]\n",
            "\n",
            "CASO 3 - VALORES INCOHERENTES:\n",
            "Error de tipo de dato: TypeError - unsupported operand type(s) for +: 'int' and 'str'\n",
            "Fin de la ejecución de la función.\n",
            "[(4, -4, 0)]\n"
          ]
        }
      ]
    },
    {
      "cell_type": "markdown",
      "source": [
        "5 - Como desafío, se te ha asignado la tarea de desarrollar un código que contabiliza las puntuaciones de estudiantes de una institución educativa de acuerdo con sus respuestas en una prueba. Este código debe ser probado para un ejemplo de 3 estudiantes con una lista de listas en la que cada lista tiene las respuestas de 5 preguntas objetivas de cada estudiante. Cada pregunta vale un punto y las alternativas posibles son A, B, C o D.\n",
        "\n",
        "Si alguna alternativa en una de las pruebas no está entre las alternativas posibles, debes lanzar un ValueError con el mensaje \"La alternativa [alternativa] no es una opción de alternativa válida\". El cálculo de las 3 notas solo se realizará mediante las entradas con las alternativas A, B, C o D en todas las pruebas. Si no se lanza la excepción, se mostrará una lista con las notas en cada prueba.\n",
        "\n",
        "* Datos para la prueba del código:\n",
        "\n",
        "Respuestas de la prueba:\n",
        "\n",
        "respuestas = ['D', 'A', 'B', 'C', 'A']\n",
        "\n",
        "A continuación, hay 2 listas de listas que puedes usar como prueba:\n",
        "\n",
        "* Notas sin excepción:\n",
        "\n",
        "tests_sin_ex = [['D', 'A', 'B', 'C', 'A'], ['C', 'A', 'A', 'C', 'A'], ['D', 'B', 'A', 'C', 'A']]\n",
        "\n",
        "* Notas con excepción:\n",
        "\n",
        "tests_con_ex = [['D', 'A', 'B', 'C', 'A'], ['C', 'A', 'A', 'E', 'A'], ['D', 'B', 'A', 'C', 'A']]"
      ],
      "metadata": {
        "id": "M_1yczipVO3Q"
      }
    },
    {
      "cell_type": "code",
      "source": [
        "def corregir_pruebas(respuestas_correctas, pruebas_estudiantes):\n",
        "    notas = []\n",
        "    opciones_validas = {'A', 'B', 'C', 'D'}\n",
        "\n",
        "    try:\n",
        "        for prueba in pruebas_estudiantes:\n",
        "            nota = 0\n",
        "            for i, respuesta in enumerate(prueba):\n",
        "                if respuesta not in opciones_validas:\n",
        "                    raise ValueError(f\"La alternativa '{respuesta}' no es una opción de alternativa válida.\")\n",
        "                if respuesta == respuestas_correctas[i]:\n",
        "                    nota += 1\n",
        "            notas.append(nota)\n",
        "\n",
        "    except ValueError as e:\n",
        "        print(f\"Error: {e}\")\n",
        "    finally:\n",
        "        print(\"Proceso finalizado.\")\n",
        "        return notas\n"
      ],
      "metadata": {
        "id": "25eq5uLrViai"
      },
      "execution_count": 10,
      "outputs": []
    },
    {
      "cell_type": "code",
      "source": [
        "respuestas = ['D', 'A', 'B', 'C', 'A']\n",
        "\n",
        "# Caso sin excepción\n",
        "tests_sin_ex = [['D', 'A', 'B', 'C', 'A'],\n",
        "                ['C', 'A', 'A', 'C', 'A'],\n",
        "                ['D', 'B', 'A', 'C', 'A']]\n",
        "\n",
        "# Caso con excepción\n",
        "tests_con_ex = [['D', 'A', 'B', 'C', 'A'],\n",
        "                ['C', 'A', 'A', 'E', 'A'],\n",
        "                ['D', 'B', 'A', 'C', 'A']]\n",
        "\n",
        "# Prueba 1: sin excepción\n",
        "print(\"🔹 Notas sin excepción:\")\n",
        "notas_validas = corregir_pruebas(respuestas, tests_sin_ex)\n",
        "print(\"Notas:\", notas_validas)\n",
        "print()\n",
        "\n",
        "# Prueba 2: con excepción\n",
        "print(\"🔹 Notas con excepción:\")\n",
        "notas_invalidas = corregir_pruebas(respuestas, tests_con_ex)\n",
        "print(\"Notas:\", notas_invalidas)\n"
      ],
      "metadata": {
        "colab": {
          "base_uri": "https://localhost:8080/"
        },
        "id": "kAOSggZQVk06",
        "outputId": "08580550-496e-4076-f81d-e33dc693777a"
      },
      "execution_count": 11,
      "outputs": [
        {
          "output_type": "stream",
          "name": "stdout",
          "text": [
            "🔹 Notas sin excepción:\n",
            "Proceso finalizado.\n",
            "Notas: [5, 3, 3]\n",
            "\n",
            "🔹 Notas con excepción:\n",
            "Error: La alternativa 'E' no es una opción de alternativa válida.\n",
            "Proceso finalizado.\n",
            "Notas: [5]\n"
          ]
        }
      ]
    },
    {
      "cell_type": "markdown",
      "source": [
        "6 - Estás trabajando con procesamiento de lenguaje natural (NLP) y, en esta ocasión, tu líder te pidió que crees un fragmento de código que reciba una lista con las palabras separadas de una frase generada por ChatGPT.\n",
        "\n",
        "Necesitas crear una función que evalúe cada palabra de este texto y verifique si el tratamiento para quitar los símbolos de puntuación (',', '.', '!' y '?') se realizó. De lo contrario, se lanzará una excepción del tipo ValueError señalando el primer caso en que se detectó el uso de una puntuación a través de la frase \"El texto presenta puntuaciones en la palabra \"[palabra]\"\". Esta solicitud se centra en el análisis del patrón de frases generadas por la inteligencia artificial.\n",
        "\n",
        "Datos para probar el código:\n",
        "\n",
        "* Lista tratada:\n",
        "\n",
        "lista_tratada = ['Python', 'es', 'un', 'lenguaje', 'de', 'programación', 'poderoso', 'versátil',\n",
        "                  'y', 'fácil', 'de', 'aprender', 'utilizado', 'en', 'diversos', 'campos', 'desde',\n",
        "                  'análisis', 'de', 'datos', 'hasta', 'inteligencia', 'artificial']\n",
        "* Lista no tratada:\n",
        "\n",
        "lista_no_tratada = ['Python', 'es', 'un', 'lenguaje', 'de', 'programación', 'poderoso,', 'versátil',\n",
        "                  'y', 'fácil,', 'de', 'aprender', 'utilizado', 'en', 'diversos', 'campos,', 'desde',\n",
        "                  'análisis', 'de', 'datos', 'hasta', 'inteligencia', 'artificial!']"
      ],
      "metadata": {
        "id": "IHjLB_zGVrVc"
      }
    },
    {
      "cell_type": "code",
      "source": [
        "def verificar_puntuacion(lista_palabras):\n",
        "    puntuaciones = {',', '.', '!', '?'}\n",
        "\n",
        "    try:\n",
        "        for palabra in lista_palabras:\n",
        "            if any(signo in palabra for signo in puntuaciones):\n",
        "                raise ValueError(f\"El texto presenta puntuaciones en la palabra \\\"{palabra}\\\"\")\n",
        "        print(f\"Todas las palabras están libres de puntuación.\")\n",
        "\n",
        "    except ValueError as e:\n",
        "        print(f\"Error: {e}\")\n"
      ],
      "metadata": {
        "id": "TLjdqW_MV3HM"
      },
      "execution_count": 12,
      "outputs": []
    },
    {
      "cell_type": "code",
      "source": [
        "# Lista tratada (sin puntuación)\n",
        "lista_tratada = ['Python', 'es', 'un', 'lenguaje', 'de', 'programación', 'poderoso', 'versátil',\n",
        "                 'y', 'fácil', 'de', 'aprender', 'utilizado', 'en', 'diversos', 'campos', 'desde',\n",
        "                 'análisis', 'de', 'datos', 'hasta', 'inteligencia', 'artificial']\n",
        "\n",
        "# Lista no tratada (con puntuaciones)\n",
        "lista_no_tratada = ['Python', 'es', 'un', 'lenguaje', 'de', 'programación', 'poderoso,', 'versátil',\n",
        "                    'y', 'fácil,', 'de', 'aprender', 'utilizado', 'en', 'diversos', 'campos,', 'desde',\n",
        "                    'análisis', 'de', 'datos', 'hasta', 'inteligencia', 'artificial!']\n",
        "\n",
        "print(\"🔹 Verificando lista tratada:\")\n",
        "verificar_puntuacion(lista_tratada)\n",
        "\n",
        "print(\"\\n🔹 Verificando lista no tratada:\")\n",
        "verificar_puntuacion(lista_no_tratada)\n"
      ],
      "metadata": {
        "colab": {
          "base_uri": "https://localhost:8080/"
        },
        "id": "rBD65FzAWAxa",
        "outputId": "69aedc02-d67f-4fd5-ee68-bf667068605e"
      },
      "execution_count": 13,
      "outputs": [
        {
          "output_type": "stream",
          "name": "stdout",
          "text": [
            "🔹 Verificando lista tratada:\n",
            "Todas las palabras están libres de puntuación.\n",
            "\n",
            "🔹 Verificando lista no tratada:\n",
            "Error: El texto presenta puntuaciones en la palabra \"poderoso,\"\n"
          ]
        }
      ]
    }
  ]
}