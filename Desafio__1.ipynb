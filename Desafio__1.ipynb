{
  "nbformat": 4,
  "nbformat_minor": 0,
  "metadata": {
    "colab": {
      "provenance": [],
      "authorship_tag": "ABX9TyOzJBjOlbPO1S4SHmVZitqj",
      "include_colab_link": true
    },
    "kernelspec": {
      "name": "python3",
      "display_name": "Python 3"
    },
    "language_info": {
      "name": "python"
    }
  },
  "cells": [
    {
      "cell_type": "markdown",
      "metadata": {
        "id": "view-in-github",
        "colab_type": "text"
      },
      "source": [
        "<a href=\"https://colab.research.google.com/github/MacarenaQuijadaG/Python_Ejercicios/blob/main/Desafio__1.ipynb\" target=\"_parent\"><img src=\"https://colab.research.google.com/assets/colab-badge.svg\" alt=\"Open In Colab\"/></a>"
      ]
    },
    {
      "cell_type": "markdown",
      "source": [
        "## **Desafio 1**"
      ],
      "metadata": {
        "id": "Q5ezyDCqVpg1"
      }
    },
    {
      "cell_type": "markdown",
      "source": [
        "1 - Crea un programa que solicite al usuario que escriba su nombre y luego imprima \"Hola, [nombre].\""
      ],
      "metadata": {
        "id": "7wGSp84eXUiJ"
      }
    },
    {
      "cell_type": "code",
      "source": [
        "nombre = input(\"Escribe tu nombre: \")\n",
        "print(\"Hola, \" + nombre)"
      ],
      "metadata": {
        "colab": {
          "base_uri": "https://localhost:8080/"
        },
        "id": "GVHRTNO9V0uq",
        "outputId": "366f204c-a369-4744-f709-5274fd406584"
      },
      "execution_count": null,
      "outputs": [
        {
          "output_type": "stream",
          "name": "stdout",
          "text": [
            "Escribe tu nombre: macarena\n",
            "Hola, macarena\n"
          ]
        }
      ]
    },
    {
      "cell_type": "markdown",
      "source": [
        "2 - Crea un programa que solicite al usuario que escriba su nombre y edad, y luego imprima \"Hola, [nombre], tienes [edad] años.\""
      ],
      "metadata": {
        "id": "TGWUpABiXp0U"
      }
    },
    {
      "cell_type": "code",
      "source": [
        "nombre = input(\"Escribe tu nombre: \")\n",
        "edad = input(\"Escribe tu edad: \")\n",
        "\n",
        "print(\"Hola, \" + nombre + \", tienes \" + edad + \" años.\")"
      ],
      "metadata": {
        "colab": {
          "base_uri": "https://localhost:8080/"
        },
        "id": "0lkl_8rYV0iW",
        "outputId": "c3c9527b-7e0b-4356-c04b-2f62ed269768"
      },
      "execution_count": null,
      "outputs": [
        {
          "output_type": "stream",
          "name": "stdout",
          "text": [
            "Escribe tu nombre: macarena\n",
            "Escribe tu edad: 29\n",
            "Hola, macarena, tienes 29 años.\n"
          ]
        }
      ]
    },
    {
      "cell_type": "markdown",
      "source": [
        "3 - Crea un programa que solicite al usuario que escriba su nombre, edad y altura en metros, y luego imprima \"Hola, [nombre], tienes [edad] años y mides [altura] metros.\""
      ],
      "metadata": {
        "id": "Hq2dljxzYLMb"
      }
    },
    {
      "cell_type": "code",
      "execution_count": null,
      "metadata": {
        "colab": {
          "base_uri": "https://localhost:8080/"
        },
        "id": "IomDp7oAVWr4",
        "outputId": "1e3305a1-d9ef-4bd7-e4d3-5d921337d222"
      },
      "outputs": [
        {
          "output_type": "stream",
          "name": "stdout",
          "text": [
            "Escribe tu nombre: macarena\n",
            "Escribe tu edad: 29\n",
            "Escribe tu altura en metros: 1.58\n",
            "Hola, macarena, tienes 29 años y mides 1.58 metros.\n"
          ]
        }
      ],
      "source": [
        "nombre = input(\"Escribe tu nombre: \")\n",
        "edad = input(\"Escribe tu edad: \")\n",
        "altura = input(\"Escribe tu altura en metros: \")\n",
        "\n",
        "print(\"Hola, \" + nombre + \", tienes \" + edad + \" años y mides \" + altura + \" metros.\")"
      ]
    },
    {
      "cell_type": "markdown",
      "source": [
        "4 - Crea un programa que solicite dos valores numéricos al usuario y luego imprima la suma de ambos valores."
      ],
      "metadata": {
        "id": "cOy1IfGlb8n0"
      }
    },
    {
      "cell_type": "code",
      "source": [
        "valor1 = int(input(\"Ingresa el primer valor numérico: \"))\n",
        "valor2 = int(input(\"Ingresa el segundo valor numérico: \"))\n",
        "\n",
        "suma = valor1 + valor2\n",
        "\n",
        "print(\"La suma de los dos valores es:\", suma)"
      ],
      "metadata": {
        "colab": {
          "base_uri": "https://localhost:8080/"
        },
        "id": "blSY_0yzb_eO",
        "outputId": "277911fa-f400-4ee9-da7b-3824a5d0c430"
      },
      "execution_count": null,
      "outputs": [
        {
          "output_type": "stream",
          "name": "stdout",
          "text": [
            "Ingresa el primer valor numérico: 2\n",
            "Ingresa el segundo valor numérico: 4\n",
            "La suma de los dos valores es: 6\n"
          ]
        }
      ]
    },
    {
      "cell_type": "markdown",
      "source": [
        "5 - Crea un programa que solicite tres valores numéricos al usuario y luego imprima la suma de los tres valores."
      ],
      "metadata": {
        "id": "_vtC_chDcQR0"
      }
    },
    {
      "cell_type": "code",
      "source": [
        "valor1 = int(input(\"Ingresa el primer valor numérico: \"))\n",
        "valor2 = int(input(\"Ingresa el segundo valor numérico: \"))\n",
        "valor3 = int(input(\"Ingresa el tercer valor numérico: \"))\n",
        "\n",
        "suma = valor1 + valor2 + valor3\n",
        "\n",
        "print(\"La suma de los tres valores es:\", suma)"
      ],
      "metadata": {
        "colab": {
          "base_uri": "https://localhost:8080/"
        },
        "id": "rnFNvDkycc9g",
        "outputId": "7be9ebb1-b9b6-4b2a-9d61-fd95e94f202c"
      },
      "execution_count": null,
      "outputs": [
        {
          "output_type": "stream",
          "name": "stdout",
          "text": [
            "Ingresa el primer valor numérico: 4\n",
            "Ingresa el segundo valor numérico: 5\n",
            "Ingresa el tercer valor numérico: 6\n",
            "La suma de los tres valores es: 15\n"
          ]
        }
      ]
    },
    {
      "cell_type": "markdown",
      "source": [
        "6 - Crea un programa que solicite dos valores numéricos al usuario y luego imprima la resta del primero menos el segundo valor.\n"
      ],
      "metadata": {
        "id": "J_b1KSOicdcx"
      }
    },
    {
      "cell_type": "code",
      "source": [
        "valor1 = int(input(\"Ingresa el primer valor numérico: \"))\n",
        "valor2 = int(input(\"Ingresa el segundo valor numérico: \"))\n",
        "\n",
        "resta = valor1 - valor2\n",
        "\n",
        "print(\"La resta del primer valor menos el segundo es:\", resta)"
      ],
      "metadata": {
        "colab": {
          "base_uri": "https://localhost:8080/"
        },
        "id": "-JX4eZwAcrjN",
        "outputId": "0f371194-fd3a-43ea-a9fb-feb95a958672"
      },
      "execution_count": null,
      "outputs": [
        {
          "output_type": "stream",
          "name": "stdout",
          "text": [
            "Ingresa el primer valor numérico: 3\n",
            "Ingresa el segundo valor numérico: 1\n",
            "La resta del primer valor menos el segundo es: 2\n"
          ]
        }
      ]
    },
    {
      "cell_type": "markdown",
      "source": [
        "7 - Crea un programa que solicite dos valores numéricos al usuario y luego imprima la multiplicación de los dos valores."
      ],
      "metadata": {
        "id": "X7oFBYp9c3W3"
      }
    },
    {
      "cell_type": "code",
      "source": [
        "valor1 = int(input(\"Ingresa el primer valor numérico: \"))\n",
        "valor2 = int(input(\"Ingresa el segundo valor numérico: \"))\n",
        "\n",
        "multiplicacion = valor1 * valor2\n",
        "\n",
        "print(\"La multiplicación de los dos valores es:\", multiplicacion)"
      ],
      "metadata": {
        "colab": {
          "base_uri": "https://localhost:8080/"
        },
        "id": "FdJhmzXHc4EI",
        "outputId": "4051d492-eb7e-40c3-8131-6f77d1c9b0ce"
      },
      "execution_count": null,
      "outputs": [
        {
          "output_type": "stream",
          "name": "stdout",
          "text": [
            "Ingresa el primer valor numérico: 12\n",
            "Ingresa el segundo valor numérico: 2\n",
            "La multiplicación de los dos valores es: 24\n"
          ]
        }
      ]
    },
    {
      "cell_type": "markdown",
      "source": [
        "8 - Crea un programa que solicite dos valores numéricos, un numerador y un denominador, y realice la división entre los dos valores. Asegúrate de que el valor del denominador no sea igual a 0."
      ],
      "metadata": {
        "id": "f71a7RH_d5Su"
      }
    },
    {
      "cell_type": "code",
      "source": [
        "numerador = float(input(\"Ingresa el numerador: \"))\n",
        "denominador = float(input(\"Ingresa el denominador: \"))\n",
        "\n",
        "resultado = numerador / denominador\n",
        "\n",
        "print(\"El resultado de la división es:\", resultado)"
      ],
      "metadata": {
        "colab": {
          "base_uri": "https://localhost:8080/"
        },
        "id": "bCAHwaqLd6Sp",
        "outputId": "c5b4994f-e3bc-4280-f116-fc1db64bcb24"
      },
      "execution_count": null,
      "outputs": [
        {
          "output_type": "stream",
          "name": "stdout",
          "text": [
            "Ingresa el numerador: 3\n",
            "Ingresa el denominador: 2\n",
            "El resultado de la división es: 1.5\n"
          ]
        }
      ]
    },
    {
      "cell_type": "markdown",
      "source": [
        "9 - Crea un programa que solicite dos valores numéricos, un operador y una potencia, y realice la exponenciación entre estos dos valores."
      ],
      "metadata": {
        "id": "Aeq9IwNhel6a"
      }
    },
    {
      "cell_type": "code",
      "source": [
        "base = int(input(\"Ingresa la base: \"))\n",
        "exponente = int(input(\"Ingresa el exponente: \"))\n",
        "\n",
        "potencia = base ** exponente\n",
        "\n",
        "print(\"El resultado de la exponenciación es:\", potencia)"
      ],
      "metadata": {
        "colab": {
          "base_uri": "https://localhost:8080/"
        },
        "id": "r0hBmwaYemg3",
        "outputId": "a9b87f9b-cd58-4acc-cf59-abf750f8d27e"
      },
      "execution_count": null,
      "outputs": [
        {
          "output_type": "stream",
          "name": "stdout",
          "text": [
            "Ingresa la base: 3\n",
            "Ingresa el exponente: 8\n",
            "El resultado de la exponenciación es: 6561\n"
          ]
        }
      ]
    },
    {
      "cell_type": "markdown",
      "source": [
        "10 - Crea un programa que solicite dos valores numéricos, un numerador y un denominador, y realice la división entera entre los dos valores. Asegúrate de que el valor del denominador no sea igual a 0."
      ],
      "metadata": {
        "id": "RjpK9Wfge6Yy"
      }
    },
    {
      "cell_type": "code",
      "source": [
        "numerador = int(input(\"Ingresa el numerador: \"))\n",
        "denominador = int(input(\"Ingresa el denominador: \"))\n",
        "\n",
        "if denominador != 0:\n",
        "    division_entera = numerador // denominador\n",
        "    print(\"El resultado de la división entera es:\", division_entera)\n",
        "else:\n",
        "    print(\"Error: El denominador no puede ser cero.\")"
      ],
      "metadata": {
        "colab": {
          "base_uri": "https://localhost:8080/"
        },
        "id": "ksBdgzjue7Iz",
        "outputId": "8c192f30-1ccc-4063-9c52-868eb177b191"
      },
      "execution_count": null,
      "outputs": [
        {
          "output_type": "stream",
          "name": "stdout",
          "text": [
            "Ingresa el numerador: 3\n",
            "Ingresa el denominador: 9\n",
            "El resultado de la división entera es: 0\n"
          ]
        }
      ]
    },
    {
      "cell_type": "markdown",
      "source": [
        "11- Crea un programa que solicite dos valores numéricos, un numerador y un denominador, y devuelva el resto de la división entre los dos valores. Asegúrate de que el valor del denominador no sea igual a 0"
      ],
      "metadata": {
        "id": "qiN9L6Y0gFOl"
      }
    },
    {
      "cell_type": "code",
      "source": [
        "numerador = int(input(\"Ingresa el numerador: \"))\n",
        "denominador = int(input(\"Ingresa el denominador: \"))\n",
        "\n",
        "if denominador != 0:\n",
        "    resto = numerador % denominador\n",
        "    print(\"El resto de la división es:\", resto)\n",
        "else:\n",
        "    print(\"Error: El denominador no puede ser cero.\")"
      ],
      "metadata": {
        "colab": {
          "base_uri": "https://localhost:8080/"
        },
        "id": "0oaI7y32gFl6",
        "outputId": "b3bbdada-4f66-40dd-85ff-5ba5a55c0aae"
      },
      "execution_count": null,
      "outputs": [
        {
          "output_type": "stream",
          "name": "stdout",
          "text": [
            "Ingresa el numerador: 3\n",
            "Ingresa el denominador: 0\n",
            "Error: El denominador no puede ser cero.\n"
          ]
        }
      ]
    },
    {
      "cell_type": "markdown",
      "source": [
        "12 - Crea un código que solicite las 3 notas de un estudiante e imprima el promedio de las notas."
      ],
      "metadata": {
        "id": "i3ppV9mhgR7y"
      }
    },
    {
      "cell_type": "code",
      "source": [
        "nota1 = float(input(\"Ingresa la primera nota: \"))\n",
        "nota2 = float(input(\"Ingresa la segunda nota: \"))\n",
        "nota3 = float(input(\"Ingresa la tercera nota: \"))\n",
        "\n",
        "promedio = (nota1 + nota2 + nota3) / 3\n",
        "\n",
        "print(\"El promedio de las notas es:\", promedio)"
      ],
      "metadata": {
        "colab": {
          "base_uri": "https://localhost:8080/"
        },
        "id": "FNo8OiYbhM6T",
        "outputId": "8f2618b7-ba21-410b-ce66-8593247b93a6"
      },
      "execution_count": null,
      "outputs": [
        {
          "output_type": "stream",
          "name": "stdout",
          "text": [
            "Ingresa la primera nota: 2\n",
            "Ingresa la segunda nota: 6\n",
            "Ingresa la tercera nota: 9\n",
            "El promedio de las notas es: 5.666666666666667\n"
          ]
        }
      ]
    },
    {
      "cell_type": "markdown",
      "source": [
        "13 - Crea un código que calcule e imprima el promedio ponderado de los números 5, 12, 20 y 15 con pesos respectivamente iguales a 1, 2, 3 y 4.\n"
      ],
      "metadata": {
        "id": "xzKL3RtNi__-"
      }
    },
    {
      "cell_type": "code",
      "source": [
        "numeros = [5, 12, 20, 15]\n",
        "pesos = [1, 2, 3, 4]\n",
        "\n",
        "suma_ponderada = 0\n",
        "suma_pesos = 0\n",
        "i = 0\n",
        "\n",
        "while i < len(numeros):\n",
        "    suma_ponderada += numeros[i] * pesos[i]\n",
        "    suma_pesos += pesos[i]\n",
        "    i += 1\n",
        "\n",
        "promedio = suma_ponderada / suma_pesos\n",
        "\n",
        "print(\"El promedio ponderado es:\", promedio)"
      ],
      "metadata": {
        "id": "ILxlIKpkj_v0",
        "outputId": "103c7574-4032-4e5a-af29-e02696c2a55c",
        "colab": {
          "base_uri": "https://localhost:8080/"
        }
      },
      "execution_count": 7,
      "outputs": [
        {
          "output_type": "stream",
          "name": "stdout",
          "text": [
            "El promedio ponderado es: 14.9\n"
          ]
        }
      ]
    },
    {
      "cell_type": "markdown",
      "source": [
        "14 - Crea una variable llamada \"frase\" y asígnale una cadena de texto de tu elección. Luego, imprime la frase en pantalla.\n"
      ],
      "metadata": {
        "id": "3J7lBL24jG3f"
      }
    },
    {
      "cell_type": "code",
      "source": [
        "frase = \"Aprender Python es divertido y útil.\"\n",
        "print(frase)"
      ],
      "metadata": {
        "id": "n-vXzFuBkAzX",
        "outputId": "182c2c55-bb8c-40cb-a26b-2bc9b4c70ab4",
        "colab": {
          "base_uri": "https://localhost:8080/"
        }
      },
      "execution_count": 3,
      "outputs": [
        {
          "output_type": "stream",
          "name": "stdout",
          "text": [
            "Aprender Python es divertido y útil.\n"
          ]
        }
      ]
    },
    {
      "cell_type": "markdown",
      "source": [
        "15 - Crea un código que solicite una frase y luego imprima la frase en pantalla.\n"
      ],
      "metadata": {
        "id": "HXFY5V-3jKWm"
      }
    },
    {
      "cell_type": "code",
      "source": [
        "frase = input(\"Escribe una frase: \")\n",
        "print(\"La frase es:\", frase)"
      ],
      "metadata": {
        "id": "eePxC_r3jNoc",
        "outputId": "5e022043-6482-49aa-e184-264a7b464c90",
        "colab": {
          "base_uri": "https://localhost:8080/"
        }
      },
      "execution_count": 5,
      "outputs": [
        {
          "output_type": "stream",
          "name": "stdout",
          "text": [
            "Escribe una frase: buenas dias\n",
            "La frase es: buenas dias\n"
          ]
        }
      ]
    },
    {
      "cell_type": "markdown",
      "source": [
        "16 - Crea un código que solicite una frase al usuario y luego imprima la misma frase ingresada pero en mayúsculas.\n"
      ],
      "metadata": {
        "id": "gUg9WAtljOCq"
      }
    },
    {
      "cell_type": "code",
      "source": [
        "frase = input(\"Escribe una frase: \")\n",
        "\n",
        "print(\"Tu frase en mayúsculas es:\", frase.upper())"
      ],
      "metadata": {
        "id": "IKwc3A9ojS29",
        "outputId": "cf8adfea-81c3-4094-9d57-6508c17ec3a0",
        "colab": {
          "base_uri": "https://localhost:8080/"
        }
      },
      "execution_count": 6,
      "outputs": [
        {
          "output_type": "stream",
          "name": "stdout",
          "text": [
            "Escribe una frase: ola\n",
            "Tu frase en mayúsculas es: OLA\n"
          ]
        }
      ]
    },
    {
      "cell_type": "markdown",
      "source": [
        "17 - Crea un código que solicite una frase al usuario y luego imprima la misma frase ingresada pero en minúsculas.\n"
      ],
      "metadata": {
        "id": "PSHOx80jjTMP"
      }
    },
    {
      "cell_type": "code",
      "source": [
        "frase = input(\"Escribe una frase: \")\n",
        "\n",
        "print(\"Tu frase en minúsculas es:\", frase.lower())"
      ],
      "metadata": {
        "id": "jrJ4_VZUjWHz",
        "outputId": "4f49a53b-8546-48b9-f43d-f033977ebc0a",
        "colab": {
          "base_uri": "https://localhost:8080/"
        }
      },
      "execution_count": 9,
      "outputs": [
        {
          "output_type": "stream",
          "name": "stdout",
          "text": [
            "Escribe una frase: ESTOCOLMO\n",
            "Tu frase en minúsculas es: estocolmo\n"
          ]
        }
      ]
    },
    {
      "cell_type": "markdown",
      "source": [
        "18 - Crea una variable llamada \"frase\" y asígnale una cadena de texto de tu elección. Luego, imprime la frase sin espacios en blanco al principio y al final."
      ],
      "metadata": {
        "id": "nB3RCxSKjWhQ"
      }
    },
    {
      "cell_type": "code",
      "source": [
        "frase = \"   Hola, esta es una frase con espacios.   \"\n",
        "\n",
        "print(frase.strip())"
      ],
      "metadata": {
        "id": "ydRr701-jbus",
        "outputId": "6fdb33d9-f136-4d1e-b17b-cac6bd7336cd",
        "colab": {
          "base_uri": "https://localhost:8080/"
        }
      },
      "execution_count": 14,
      "outputs": [
        {
          "output_type": "stream",
          "name": "stdout",
          "text": [
            "Hola, esta es una frase con espacios.\n"
          ]
        }
      ]
    },
    {
      "cell_type": "markdown",
      "source": [
        "19 - Crea un código que solicite una frase al usuario y luego imprima la misma frase sin espacios en blanco al principio y al final.\n"
      ],
      "metadata": {
        "id": "dssgg8n6jmBU"
      }
    },
    {
      "cell_type": "code",
      "source": [
        "frase = input(\"Escribe una frase: \")\n",
        "\n",
        "print(\"Frase:\", frase.strip())"
      ],
      "metadata": {
        "id": "zeRCVgOwkEAw",
        "outputId": "e0497e57-a7fe-41ea-9d37-47d1568225d5",
        "colab": {
          "base_uri": "https://localhost:8080/"
        }
      },
      "execution_count": 16,
      "outputs": [
        {
          "output_type": "stream",
          "name": "stdout",
          "text": [
            "Escribe una frase: bienvenido a chile\n",
            "Frase: bienvenido a chile\n"
          ]
        }
      ]
    },
    {
      "cell_type": "markdown",
      "source": [
        "20 - Crea un código que solicite una frase al usuario y luego imprima la misma frase sin espacios en blanco al principio y al final, además de convertirla a minúsculas.\n"
      ],
      "metadata": {
        "id": "rA2VnJcvjsom"
      }
    },
    {
      "cell_type": "code",
      "source": [
        "frase = input(\"Escribe una frase: \")\n",
        "\n",
        "frase_limpia = frase.strip().lower()\n",
        "\n",
        "print(\"Frase procesada:\", frase_limpia)"
      ],
      "metadata": {
        "id": "9EpylkT_jsYu",
        "outputId": "0868f178-cb17-4932-86c5-3eb03b9e9e10",
        "colab": {
          "base_uri": "https://localhost:8080/"
        }
      },
      "execution_count": 18,
      "outputs": [
        {
          "output_type": "stream",
          "name": "stdout",
          "text": [
            "Escribe una frase: Buenas tardes\n",
            "Frase procesada: buenas tardes\n"
          ]
        }
      ]
    },
    {
      "cell_type": "markdown",
      "source": [
        "21 - Crea un código que solicite una frase al usuario y luego imprima la misma frase con todas las vocales \"e\" reemplazadas por la letra \"f\".\n"
      ],
      "metadata": {
        "id": "VaMvopLDjvWl"
      }
    },
    {
      "cell_type": "code",
      "source": [
        "frase = input(\"Escribe una frase: \")\n",
        "\n",
        "frase_modificada = frase.replace('e', 'f')\n",
        "\n",
        "print(\"Frase modificada:\", frase_modificada)"
      ],
      "metadata": {
        "id": "mrK9DunHjxtS",
        "outputId": "8f4ee11d-ab63-45f0-d564-d3767397df1b",
        "colab": {
          "base_uri": "https://localhost:8080/"
        }
      },
      "execution_count": 19,
      "outputs": [
        {
          "output_type": "stream",
          "name": "stdout",
          "text": [
            "Escribe una frase: elefantes\n",
            "Frase modificada: flffantfs\n"
          ]
        }
      ]
    },
    {
      "cell_type": "markdown",
      "source": [
        "22 - Crea un código que solicite una frase al usuario y luego imprima la misma frase con todas las vocales \"a\" reemplazadas por el carácter \"@\".\n"
      ],
      "metadata": {
        "id": "vLzu9YrujyBi"
      }
    },
    {
      "cell_type": "code",
      "source": [
        "frase = input(\"Escribe una frase: \")\n",
        "\n",
        "frase_modificada = frase.replace('a', '@')\n",
        "\n",
        "print(\"Frase modificada:\", frase_modificada)"
      ],
      "metadata": {
        "id": "vB5Z7zvKj0CK",
        "outputId": "53658a84-408e-4f8f-ee01-6ed90f9fc647",
        "colab": {
          "base_uri": "https://localhost:8080/"
        }
      },
      "execution_count": 20,
      "outputs": [
        {
          "output_type": "stream",
          "name": "stdout",
          "text": [
            "Escribe una frase: america latina\n",
            "Frase modificada: @meric@ l@tin@\n"
          ]
        }
      ]
    },
    {
      "cell_type": "markdown",
      "source": [
        "\n",
        "23 - Crea un código que solicite una frase al usuario y luego imprima la misma frase con todas las consonantes \"s\" reemplazadas por el carácter \"$\"."
      ],
      "metadata": {
        "id": "2E1_G-wmj0S8"
      }
    },
    {
      "cell_type": "code",
      "source": [
        "frase = input(\"Escribe una frase: \")\n",
        "\n",
        "frase_modificada = frase.replace('s', '$')\n",
        "\n",
        "print(\"Frase modificada:\", frase_modificada)"
      ],
      "metadata": {
        "id": "IUDrJuqlj2lr",
        "outputId": "0bf04fbd-b8bd-4d85-84e6-e05da29df90b",
        "colab": {
          "base_uri": "https://localhost:8080/"
        }
      },
      "execution_count": 21,
      "outputs": [
        {
          "output_type": "stream",
          "name": "stdout",
          "text": [
            "Escribe una frase: la seguridad es algo que todos debemos tener\n",
            "Frase modificada: la $eguridad e$ algo que todo$ debemo$ tener\n"
          ]
        }
      ]
    }
  ]
}