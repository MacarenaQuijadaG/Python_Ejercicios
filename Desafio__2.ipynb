{
  "nbformat": 4,
  "nbformat_minor": 0,
  "metadata": {
    "colab": {
      "provenance": [],
      "authorship_tag": "ABX9TyOuQAXiygAeM+Ks18x7qhio",
      "include_colab_link": true
    },
    "kernelspec": {
      "name": "python3",
      "display_name": "Python 3"
    },
    "language_info": {
      "name": "python"
    }
  },
  "cells": [
    {
      "cell_type": "markdown",
      "metadata": {
        "id": "view-in-github",
        "colab_type": "text"
      },
      "source": [
        "<a href=\"https://colab.research.google.com/github/MacarenaQuijadaG/Python_Ejercicios/blob/main/Desafio__2.ipynb\" target=\"_parent\"><img src=\"https://colab.research.google.com/assets/colab-badge.svg\" alt=\"Open In Colab\"/></a>"
      ]
    },
    {
      "cell_type": "markdown",
      "source": [
        "## **Desafio 2**"
      ],
      "metadata": {
        "id": "yGnW83hV_nWy"
      }
    },
    {
      "cell_type": "markdown",
      "source": [
        "1 - Escribe un programa que pida a la persona usuaria que proporcione dos números y muestre el número más grande."
      ],
      "metadata": {
        "id": "SwmduDFk_8F1"
      }
    },
    {
      "cell_type": "code",
      "source": [],
      "metadata": {
        "id": "f5VCcRT5_3Tq"
      },
      "execution_count": null,
      "outputs": []
    },
    {
      "cell_type": "markdown",
      "source": [
        "2 - Escribe un programa que solicite el porcentaje de crecimiento de producción de una empresa e informe si hubo un crecimiento (porcentaje positivo) o una disminución (porcentaje negativo)."
      ],
      "metadata": {
        "id": "IlY9fjQK_yw-"
      }
    },
    {
      "cell_type": "code",
      "source": [],
      "metadata": {
        "id": "mxTNKn0g_4Ff"
      },
      "execution_count": null,
      "outputs": []
    },
    {
      "cell_type": "markdown",
      "source": [
        "3 - Escribe un programa que determine si una letra proporcionada por la persona usuaria es una vocal o una consonante."
      ],
      "metadata": {
        "id": "w9eiUFo0_9qF"
      }
    },
    {
      "cell_type": "code",
      "source": [],
      "metadata": {
        "id": "sGD7tngOADmY"
      },
      "execution_count": null,
      "outputs": []
    },
    {
      "cell_type": "markdown",
      "source": [
        "4 - Escribe un programa que lea valores promedio de precios de un modelo de automóvil durante 3 años consecutivos y muestre el valor más alto y más bajo entre esos tres años."
      ],
      "metadata": {
        "id": "C7onth6hBoDY"
      }
    },
    {
      "cell_type": "code",
      "source": [],
      "metadata": {
        "id": "zPuv7HkJBqk3"
      },
      "execution_count": null,
      "outputs": []
    },
    {
      "cell_type": "markdown",
      "source": [
        "5 - Escribe un programa que pregunte sobre el precio de tres productos e indique cuál es el producto más barato para comprar."
      ],
      "metadata": {
        "id": "Hmd3rPyKBq6i"
      }
    },
    {
      "cell_type": "code",
      "source": [],
      "metadata": {
        "id": "ewJucWCEBta0"
      },
      "execution_count": null,
      "outputs": []
    },
    {
      "cell_type": "markdown",
      "source": [
        "6 - Escribe un programa que lea tres números y los muestre en orden descendente."
      ],
      "metadata": {
        "id": "tOZxpl2BBuEV"
      }
    },
    {
      "cell_type": "code",
      "source": [],
      "metadata": {
        "id": "dVv2-ggKBwIC"
      },
      "execution_count": null,
      "outputs": []
    },
    {
      "cell_type": "markdown",
      "source": [
        "7 -Escribe un programa que pregunte en qué turno estudia la persona usuaria (\"mañana\", \"tarde\" o \"noche\") y muestre el mensaje \"¡Buenos Días!\", \"¡Buenas Tardes!\", \"¡Buenas Noches!\" o \"Valor Inválido!\", según el caso."
      ],
      "metadata": {
        "id": "c4l1NvSeBwfm"
      }
    },
    {
      "cell_type": "code",
      "source": [],
      "metadata": {
        "id": "vS2FO7L6B8UA"
      },
      "execution_count": null,
      "outputs": []
    },
    {
      "cell_type": "markdown",
      "source": [
        "8 - Escribe un programa que solicite un número entero a la persona usuaria y determine si es par o impar. Pista: Puedes usar el operador módulo (%)."
      ],
      "metadata": {
        "id": "y2mJXOcgB8u5"
      }
    },
    {
      "cell_type": "code",
      "source": [],
      "metadata": {
        "id": "DW99I9QmB_Kk"
      },
      "execution_count": null,
      "outputs": []
    },
    {
      "cell_type": "markdown",
      "source": [
        "9 - Escribe un programa que pida un número a la persona usuaria y le informe si es entero o decimal."
      ],
      "metadata": {
        "id": "ax-1lfBNCy7L"
      }
    },
    {
      "cell_type": "code",
      "source": [],
      "metadata": {
        "id": "cxwB2j0nC2P5"
      },
      "execution_count": null,
      "outputs": []
    },
    {
      "cell_type": "markdown",
      "source": [
        "10 - Un programa debe ser escrito para leer dos números y luego preguntar a la persona usuaria qué operación desea realizar. El resultado de la operación debe incluir información sobre el número, si es par o impar, positivo o negativo, e entero o decimal."
      ],
      "metadata": {
        "id": "wZmte2MuC2lQ"
      }
    },
    {
      "cell_type": "code",
      "source": [],
      "metadata": {
        "id": "xxNducdaC4kR"
      },
      "execution_count": null,
      "outputs": []
    }
  ]
}