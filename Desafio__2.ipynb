{
  "nbformat": 4,
  "nbformat_minor": 0,
  "metadata": {
    "colab": {
      "provenance": [],
      "authorship_tag": "ABX9TyMxzY9Jcmto7wtHRzSVMMDs",
      "include_colab_link": true
    },
    "kernelspec": {
      "name": "python3",
      "display_name": "Python 3"
    },
    "language_info": {
      "name": "python"
    }
  },
  "cells": [
    {
      "cell_type": "markdown",
      "metadata": {
        "id": "view-in-github",
        "colab_type": "text"
      },
      "source": [
        "<a href=\"https://colab.research.google.com/github/MacarenaQuijadaG/Python_Ejercicios/blob/main/Desafio__2.ipynb\" target=\"_parent\"><img src=\"https://colab.research.google.com/assets/colab-badge.svg\" alt=\"Open In Colab\"/></a>"
      ]
    },
    {
      "cell_type": "markdown",
      "source": [
        "# **Desafio 2**"
      ],
      "metadata": {
        "id": "tJW9KkkHkkY9"
      }
    },
    {
      "cell_type": "markdown",
      "source": [
        "1 - Escribe un código que lee la lista siguiente y realiza:\n",
        "\n",
        "lista = [16, 14, 63, 65, 17, 99, 70, 11, 20, 48, 79, 32, 17, 89, 12, 25, 66]\n",
        "* 1. Leer el tamaño de la lista\n",
        "* 2. Leer el valor máximo y mínimo\n",
        "* 3. Calcular la suma de los valores de la lista\n",
        "* 4. Mostrar un mensaje al final: La lista tiene `tamano` números, donde el mayor\n",
        "* es `mayor` y el menor es `menor`. La suma de los valores es `suma`.\n"
      ],
      "metadata": {
        "id": "FfeMiVSBktV6"
      }
    },
    {
      "cell_type": "code",
      "source": [
        "lista = [16, 14, 63, 65, 17, 99, 70, 11, 20, 48, 79, 32, 17, 89, 12, 25, 66]\n",
        "\n",
        "tamano = len(lista)\n",
        "\n",
        "mayor = max(lista)\n",
        "menor = min(lista)\n",
        "\n",
        "suma = sum(lista)\n",
        "\n",
        "print(f\"La lista tiene {tamano} números, donde el mayor es {mayor} y el menor es {menor}. La suma de los valores es {suma}.\")"
      ],
      "metadata": {
        "colab": {
          "base_uri": "https://localhost:8080/"
        },
        "id": "-v6U-nUkkn9q",
        "outputId": "0b90196f-3b24-4606-d2f6-a916e9b29478"
      },
      "execution_count": 1,
      "outputs": [
        {
          "output_type": "stream",
          "name": "stdout",
          "text": [
            "La lista tiene 17 números, donde el mayor es 99 y el menor es 11. La suma de los valores es 743.\n"
          ]
        }
      ]
    },
    {
      "cell_type": "markdown",
      "source": [
        "2 - Escribe una función que genere la tabla de multiplicar de un número entero del 1 al 10, según la elección del usuario. Como ejemplo, para el número 7, la tabla de multiplicar se debe mostrar en el siguiente formato:\n",
        "\n",
        "* Tabla del  7:\n",
        "* 7 x 0 = 0\n",
        "* 7 x 1 = 7\n",
        "* [...]\n",
        "* 7 x 10 = 70\n"
      ],
      "metadata": {
        "id": "78V-GQptlDrs"
      }
    },
    {
      "cell_type": "code",
      "execution_count": 3,
      "metadata": {
        "colab": {
          "base_uri": "https://localhost:8080/"
        },
        "id": "Rm-NHCGqkU_J",
        "outputId": "daddb6b0-e0a7-4f49-edde-43789ca01869"
      },
      "outputs": [
        {
          "output_type": "stream",
          "name": "stdout",
          "text": [
            "Ingresa un número entero para generar su tabla de multiplicar: 7\n",
            "Tabla del 7:\n",
            "7 x 0 = 0\n",
            "7 x 1 = 7\n",
            "7 x 2 = 14\n",
            "7 x 3 = 21\n",
            "7 x 4 = 28\n",
            "7 x 5 = 35\n",
            "7 x 6 = 42\n",
            "7 x 7 = 49\n",
            "7 x 8 = 56\n",
            "7 x 9 = 63\n",
            "7 x 10 = 70\n"
          ]
        }
      ],
      "source": [
        "def generar_tabla_multiplicar(numero):\n",
        "    print(f\"Tabla del {numero}:\")\n",
        "    for i in range(11):\n",
        "        resultado = numero * i\n",
        "        print(f\"{numero} x {i} = {resultado}\")\n",
        "\n",
        "numero_usuario = int(input(\"Ingresa un número entero para generar su tabla de multiplicar: \"))\n",
        "generar_tabla_multiplicar(numero_usuario)"
      ]
    },
    {
      "cell_type": "markdown",
      "source": [
        "Crea una función que lea la siguiente lista y devuelva una nueva lista con los múltiplos de 3:\n",
        "\n",
        "*[97, 80, 94, 88, 80, 1, 16, 53, 62, 32, 24, 99]\n"
      ],
      "metadata": {
        "id": "k1a1dB2PlRep"
      }
    },
    {
      "cell_type": "code",
      "source": [
        "def obtener_multiplos_de_tres(lista):\n",
        "    multiplos_de_tres = [num for num in lista if num % 3 == 0]\n",
        "    return multiplos_de_tres\n",
        "\n",
        "lista = [97, 80, 94, 88, 80, 1, 16, 53, 62, 32, 24, 99]\n",
        "\n",
        "resultado = obtener_multiplos_de_tres(lista)\n",
        "print(resultado)"
      ],
      "metadata": {
        "colab": {
          "base_uri": "https://localhost:8080/"
        },
        "id": "3SReVETklXLy",
        "outputId": "056d5feb-2931-47f4-fdad-3ab927b4c386"
      },
      "execution_count": 4,
      "outputs": [
        {
          "output_type": "stream",
          "name": "stdout",
          "text": [
            "[24, 99]\n"
          ]
        }
      ]
    },
    {
      "cell_type": "markdown",
      "source": [
        "4 - Crea una lista de los cuadrados de los números de la siguiente lista [1, 2, 3, 4, 5, 6, 7, 8, 9, 10]. Recuerda utilizar las funciones lambda y map() para calcular el cuadrado de cada elemento de la lista.\n",
        "\n"
      ],
      "metadata": {
        "id": "ona7MC3bleDB"
      }
    },
    {
      "cell_type": "code",
      "source": [
        "lista = [1, 2, 3, 4, 5, 6, 7, 8, 9, 10]\n",
        "\n",
        "cuadrados = list(map(lambda x: x**2, lista))\n",
        "\n",
        "print(cuadrados)"
      ],
      "metadata": {
        "colab": {
          "base_uri": "https://localhost:8080/"
        },
        "id": "liafF7mRljOa",
        "outputId": "0e59904c-42e3-4ea5-c672-3dc7ffcc4091"
      },
      "execution_count": 5,
      "outputs": [
        {
          "output_type": "stream",
          "name": "stdout",
          "text": [
            "[1, 4, 9, 16, 25, 36, 49, 64, 81, 100]\n"
          ]
        }
      ]
    },
    {
      "cell_type": "markdown",
      "source": [
        "5 - Has sido contratado como científico(a) de datos de una asociación de skate. Para analizar las notas recibidas por los skaters en algunas competiciones a lo largo del año, necesitas crear un código que calcule la puntuación de los atletas. Para ello, tu código debe recibir 5 notas ingresadas por los jueces."
      ],
      "metadata": {
        "id": "VhxdwnIalmUL"
      }
    },
    {
      "cell_type": "code",
      "source": [
        "def calcular_puntuacion():\n",
        "    notas = []\n",
        "\n",
        "    for i in range(1, 6):\n",
        "        nota = float(input(f\"Ingrese la nota del juez {i}: \"))\n",
        "        notas.append(nota)\n",
        "\n",
        "    puntuacion_final = sum(notas) / len(notas)\n",
        "\n",
        "    print(f\"La puntuación final del atleta es: {puntuacion_final:.2f}\")\n",
        "\n",
        "calcular_puntuacion()"
      ],
      "metadata": {
        "colab": {
          "base_uri": "https://localhost:8080/"
        },
        "id": "TnuMmmEBluG5",
        "outputId": "850e03b2-b26a-4c6c-9c0f-f9f9a2895886"
      },
      "execution_count": 6,
      "outputs": [
        {
          "output_type": "stream",
          "name": "stdout",
          "text": [
            "Ingrese la nota del juez 1: 5\n",
            "Ingrese la nota del juez 2: 4\n",
            "Ingrese la nota del juez 3: 3\n",
            "Ingrese la nota del juez 4: 2\n",
            "Ingrese la nota del juez 5: 1\n",
            "La puntuación final del atleta es: 3.00\n"
          ]
        }
      ]
    },
    {
      "cell_type": "markdown",
      "source": [
        "6 - Para cumplir con una demanda de una institución educativa para el análisis del rendimiento de sus estudiantes, necesitas crear una función que reciba una lista de 4 notas y devuelva:\n",
        "\n",
        "* mayor nota\n",
        "* menor nota\n",
        "* media\n",
        "* situación (Aprobado(a) o Reprobado(a))\n",
        "* Uso de la función\n",
        "* Mostrar: El estudiante obtuvo una media de `media`, con la mayor nota de `mayor` puntos y la menor nota de `menor` puntos y fue `situacion`.)\n"
      ],
      "metadata": {
        "id": "DrWK7o6ml5gY"
      }
    },
    {
      "cell_type": "code",
      "source": [
        "def analizar_rendimiento(notas):\n",
        "    mayor = max(notas)\n",
        "    menor = min(notas)\n",
        "    media = sum(notas) / len(notas)\n",
        "\n",
        "    if media >= 6.0:\n",
        "        situacion = \"Aprobado(a)\"\n",
        "    else:\n",
        "        situacion = \"Reprobado(a)\"\n",
        "\n",
        "    print(f\"El estudiante obtuvo una media de {media:.2f}, con la mayor nota de {mayor} puntos y la menor nota de {menor} puntos y fue {situacion}.\")\n",
        "\n",
        "notas_estudiante = [7.5, 6.2, 5.8, 8.0]\n",
        "analizar_rendimiento(notas_estudiante)"
      ],
      "metadata": {
        "colab": {
          "base_uri": "https://localhost:8080/"
        },
        "id": "Ay_R8XCDmFhA",
        "outputId": "5e1ae2e0-aa68-4335-c8eb-52d9cecd062f"
      },
      "execution_count": 7,
      "outputs": [
        {
          "output_type": "stream",
          "name": "stdout",
          "text": [
            "El estudiante obtuvo una media de 6.88, con la mayor nota de 8.0 puntos y la menor nota de 5.8 puntos y fue Aprobado(a).\n"
          ]
        }
      ]
    },
    {
      "cell_type": "markdown",
      "source": [
        "7 - Has recibido una demanda para tratar 2 listas con los nombres y apellidos de cada estudiante concatenándolos para presentar sus nombres completos en la forma Nombre Apellido. Las listas son:\n",
        "\n",
        "nombres = [\"juan\", \"MaRia\", \"JOSÉ\"]\n",
        "apellidos = [\"SILVA\", \"sosa\", \"Tavares\"]\n",
        "\n",
        "* Normalizar nombres y apellidos y crear una nueva lista con los nombres completos\n",
        "* Puedes apoyarte en la función map()\n"
      ],
      "metadata": {
        "id": "ZGJgrS_EmS7I"
      }
    },
    {
      "cell_type": "code",
      "source": [
        "nombres = [\"juan\", \"MaRia\", \"JOSÉ\"]\n",
        "apellidos = [\"SILVA\", \"sosa\", \"Tavares\"]\n",
        "\n",
        "def normalizar_y_concatenar(nombre, apellido):\n",
        "\n",
        "    nombre_normalizado = nombre.capitalize()\n",
        "    apellido_normalizado = apellido.capitalize()\n",
        "\n",
        "    return f\"{nombre_normalizado} {apellido_normalizado}\"\n",
        "\n",
        "nombres_completos = list(map(normalizar_y_concatenar, nombres, apellidos))\n",
        "\n",
        "print(nombres_completos)"
      ],
      "metadata": {
        "colab": {
          "base_uri": "https://localhost:8080/"
        },
        "id": "0IaZ3-6-mbOA",
        "outputId": "0efb9128-238b-487b-bc0d-e423c449a29e"
      },
      "execution_count": 8,
      "outputs": [
        {
          "output_type": "stream",
          "name": "stdout",
          "text": [
            "['Juan Silva', 'Maria Sosa', 'José Tavares']\n"
          ]
        }
      ]
    },
    {
      "cell_type": "markdown",
      "source": [
        "8 - Como científico de datos en un equipo de fútbol, necesitas implementar nuevas formas de recopilación de datos sobre el rendimiento de los jugadores y del equipo en su conjunto. Tu primera acción es crear una forma de calcular la puntuación del equipo en el campeonato nacional a partir de los datos de goles marcados y recibidos en cada juego.\n",
        "\n",
        "Escribe una función llamada calcula_puntos() que recibe como parámetros dos listas de números enteros, representando los goles marcados y recibidos por el equipo en cada partido del campeonato. La función debe devolver la puntuación del equipo y el rendimiento en porcentaje, teniendo en cuenta que la victoria vale 3 puntos, el empate 1 punto y la derrota 0 puntos.\n",
        "\n",
        "*Nota: si la cantidad de goles marcados en un partido es mayor que los recibidos, el equipo ganó. En caso de ser igual, el equipo empató, y si es menor, el equipo perdió. Para calcular el rendimiento, debemos hacer la razón entre la puntuación del equipo y la puntuación máxima que podría recibir.\n",
        "\n",
        "Para la prueba, utiliza las siguientes listas de goles marcados y recibidos:\n",
        "\n",
        "goles_marcados = [2, 1, 3, 1, 0]\n",
        "goles_recibidos = [1, 2, 2, 1, 3]\n",
        "* Texto probablemente mostrado:\n",
        "* La puntuación del equipo fue `puntos` y su rendimiento fue `desempeno`%\"\n"
      ],
      "metadata": {
        "id": "7LZhSNzBmkKI"
      }
    },
    {
      "cell_type": "code",
      "source": [
        "def calcula_puntos(goles_marcados, goles_recibidos):\n",
        "    puntos = 0\n",
        "\n",
        "    for goles_marcado, goles_recibido in zip(goles_marcados, goles_recibidos):\n",
        "        if goles_marcado > goles_recibido:\n",
        "            puntos += 3\n",
        "        elif goles_marcado == goles_recibido:\n",
        "            puntos += 1\n",
        "\n",
        "    partidos_jugados = len(goles_marcados)\n",
        "    puntos_maximos = partidos_jugados * 3\n",
        "    desempeno = (puntos / puntos_maximos) * 100\n",
        "\n",
        "    print(f\"La puntuación del equipo fue {puntos} y su rendimiento fue {desempeno:.2f}%\")\n",
        "\n",
        "goles_marcados = [2, 1, 3, 1, 0]\n",
        "goles_recibidos = [1, 2, 2, 1, 3]\n",
        "\n",
        "calcula_puntos(goles_marcados, goles_recibidos)"
      ],
      "metadata": {
        "colab": {
          "base_uri": "https://localhost:8080/"
        },
        "id": "-SHc8eAymsxg",
        "outputId": "d424388a-f733-402e-cc6c-07da94770471"
      },
      "execution_count": 9,
      "outputs": [
        {
          "output_type": "stream",
          "name": "stdout",
          "text": [
            "La puntuación del equipo fue 7 y su rendimiento fue 46.67%\n"
          ]
        }
      ]
    },
    {
      "cell_type": "markdown",
      "source": [
        "9 - Te han desafiado a crear un código que calcule los gastos de un viaje a una de las cuatro ciudades desde Recife, siendo ellas: Salvador, Fortaleza, Natal y Aracaju.\n",
        "\n",
        "El costo diario del hotel es de 150 reales en todas ellas y el consumo de gasolina en el viaje en coche es de 14 km/l, siendo que el precio de la gasolina es de 5 reales por litro. Los gastos con paseos y alimentación a realizar en cada una de ellas por día serían [200, 400, 250, 300], respectivamente.\n",
        "\n",
        "Sabiendo que las distancias entre Recife y cada una de las ciudades son aproximadamente [850, 800, 300, 550] km, crea tres funciones: la primera función calcula los gastos de hotel (gasto_hotel), la segunda calcula los gastos de gasolina (gasto_gasolina) y la tercera los gastos de paseo y alimentación (gasto_paseo).\n",
        "\n",
        "Para probar, simula un viaje de 3 días a Salvador desde Recife. Considera el viaje de ida y vuelta en coche.\n",
        "\n",
        "* Texto probablemente mostrado:\n",
        "* Con base en los gastos definidos, un viaje de [dias] días a [ciudad] desde\n",
        "* Recife costaría [gastos] reales.\n"
      ],
      "metadata": {
        "id": "MfKxPHzWnCOp"
      }
    },
    {
      "cell_type": "code",
      "source": [
        "def gasto_hotel(dias):\n",
        "    costo_diario_hotel = 150\n",
        "    return dias * costo_diario_hotel\n",
        "\n",
        "def gasto_gasolina(distancia, consumo_km_litro, precio_gasolina):\n",
        "\n",
        "    litros_necesarios = (distancia * 2) / consumo_km_litro\n",
        "    return litros_necesarios * precio_gasolina\n",
        "\n",
        "def gasto_paseo(dias, ciudad):\n",
        "    gastos_paseo_diarios = {\n",
        "        \"Salvador\": 200,\n",
        "        \"Fortaleza\": 400,\n",
        "        \"Natal\": 250,\n",
        "        \"Aracaju\": 300\n",
        "    }\n",
        "    return dias * gastos_paseo_diarios[ciudad]\n",
        "\n",
        "ciudades = [\"Salvador\", \"Fortaleza\", \"Natal\", \"Aracaju\"]\n",
        "distancias = [850, 800, 300, 550]\n",
        "consumo_gasolina = 14\n",
        "precio_gasolina = 5\n",
        "\n",
        "\n",
        "ciudad_destino = \"Salvador\"\n",
        "dias_viaje = 3\n",
        "indice_ciudad = ciudades.index(ciudad_destino)\n",
        "\n",
        "\n",
        "gastos_hotel_totales = gasto_hotel(dias_viaje)\n",
        "gastos_gasolina_totales = gasto_gasolina(distancias[indice_ciudad], consumo_gasolina, precio_gasolina)\n",
        "gastos_paseo_totales = gasto_paseo(dias_viaje, ciudad_destino)\n",
        "\n",
        "gastos_totales = gastos_hotel_totales + gastos_gasolina_totales + gastos_paseo_totales\n",
        "\n",
        "print(f\"Con base en los gastos definidos, un viaje de {dias_viaje} días a {ciudad_destino} desde Recife costaría {gastos_totales:.2f} reales.\")"
      ],
      "metadata": {
        "colab": {
          "base_uri": "https://localhost:8080/"
        },
        "id": "FUMiCKkXnk6P",
        "outputId": "b5f91ddb-5ec4-4572-c92c-f6163a5fc9e7"
      },
      "execution_count": 10,
      "outputs": [
        {
          "output_type": "stream",
          "name": "stdout",
          "text": [
            "Con base en los gastos definidos, un viaje de 3 días a Salvador desde Recife costaría 1657.14 reales.\n"
          ]
        }
      ]
    },
    {
      "cell_type": "markdown",
      "source": [
        "10 - Has comenzado una pasantía en una empresa que trabaja con procesamiento de lenguaje natural (NLP). Tu líder te solicitó que crees un fragmento de código que reciba una frase escrita por el usuario y filtre solo las palabras con un tamaño mayor o igual a 5, mostrándolas en una lista. Esta demanda se centra en el análisis del patrón de comportamiento de las personas al escribir palabras de esta cantidad de caracteres o más.\n",
        "\n",
        "Consejo: utiliza las funciones lambda y filter() para filtrar estas palabras. Recordando que la función integrada filter() recibe una función (en nuestro caso, una función lambda) y filtra un iterable según la función. Para tratar la frase, utiliza replace() para cambiar ',' '.', '!' y '?' por espacio."
      ],
      "metadata": {
        "id": "A0-VHZ9bnw4R"
      }
    },
    {
      "cell_type": "code",
      "source": [
        "def filtrar_palabras_largas(frase):\n",
        "\n",
        "    frase_limpia = frase.replace(',', ' ').replace('.', ' ').replace('!', ' ').replace('?', ' ')\n",
        "\n",
        "    palabras = frase_limpia.split()\n",
        "    palabras_filtradas = list(filter(lambda palabra: len(palabra) >= 5, palabras))\n",
        "\n",
        "    return palabras_filtradas\n",
        "\n",
        "frase_usuario = input(\"Ingresa una frase: \")\n",
        "\n",
        "resultado = filtrar_palabras_largas(frase_usuario)\n",
        "print(\"Las palabras con 5 o más caracteres son:\", resultado)"
      ],
      "metadata": {
        "colab": {
          "base_uri": "https://localhost:8080/"
        },
        "id": "IhflgAW5n2SB",
        "outputId": "5bffe4c1-b285-4269-cf18-ee7ceb9fbb5b"
      },
      "execution_count": 11,
      "outputs": [
        {
          "output_type": "stream",
          "name": "stdout",
          "text": [
            "Ingresa una frase: la vida es linda\n",
            "Las palabras con 5 o más caracteres son: ['linda']\n"
          ]
        }
      ]
    }
  ]
}