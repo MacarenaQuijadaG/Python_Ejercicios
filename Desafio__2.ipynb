{
  "nbformat": 4,
  "nbformat_minor": 0,
  "metadata": {
    "colab": {
      "provenance": [],
      "authorship_tag": "ABX9TyMQ2gfQc4lUnnIZg5QFXtes",
      "include_colab_link": true
    },
    "kernelspec": {
      "name": "python3",
      "display_name": "Python 3"
    },
    "language_info": {
      "name": "python"
    }
  },
  "cells": [
    {
      "cell_type": "markdown",
      "metadata": {
        "id": "view-in-github",
        "colab_type": "text"
      },
      "source": [
        "<a href=\"https://colab.research.google.com/github/MacarenaQuijadaG/Python_Ejercicios/blob/main/Desafio__2.ipynb\" target=\"_parent\"><img src=\"https://colab.research.google.com/assets/colab-badge.svg\" alt=\"Open In Colab\"/></a>"
      ]
    },
    {
      "cell_type": "markdown",
      "source": [
        "## **Desafio 2**"
      ],
      "metadata": {
        "id": "yGnW83hV_nWy"
      }
    },
    {
      "cell_type": "markdown",
      "source": [
        "1 - Escribe un programa que pida a la persona usuaria que proporcione dos números y muestre el número más grande."
      ],
      "metadata": {
        "id": "SwmduDFk_8F1"
      }
    },
    {
      "cell_type": "code",
      "source": [
        "numero1 = float(input(\"Introduce el primer número: \"))\n",
        "numero2 = float(input(\"Introduce el segundo número: \"))\n",
        "\n",
        "if numero1 > numero2:\n",
        "    print(f\"El número más grande es: {numero1}\")\n",
        "elif numero2 > numero1:\n",
        "    print(f\"El número más grande es: {numero2}\")\n",
        "else:\n",
        "    print(\"Ambos números son iguales.\")"
      ],
      "metadata": {
        "id": "f5VCcRT5_3Tq",
        "colab": {
          "base_uri": "https://localhost:8080/"
        },
        "outputId": "5c30a7e9-73f1-4bfc-c3ef-7d4f8c771b08"
      },
      "execution_count": 1,
      "outputs": [
        {
          "output_type": "stream",
          "name": "stdout",
          "text": [
            "Introduce el primer número: 3\n",
            "Introduce el segundo número: 8\n",
            "El número más grande es: 8.0\n"
          ]
        }
      ]
    },
    {
      "cell_type": "markdown",
      "source": [
        "2 - Escribe un programa que solicite el porcentaje de crecimiento de producción de una empresa e informe si hubo un crecimiento (porcentaje positivo) o una disminución (porcentaje negativo)."
      ],
      "metadata": {
        "id": "IlY9fjQK_yw-"
      }
    },
    {
      "cell_type": "code",
      "source": [
        "porcentaje = float(input(\"Introduce el porcentaje de crecimiento de producción: \"))\n",
        "\n",
        "if porcentaje > 0:\n",
        "    print(\"Hubo un crecimiento en la producción.\")\n",
        "elif porcentaje < 0:\n",
        "    print(\"Hubo una disminución en la producción.\")\n",
        "else:\n",
        "    print(\"No hubo cambios en la producción.\")"
      ],
      "metadata": {
        "id": "mxTNKn0g_4Ff",
        "colab": {
          "base_uri": "https://localhost:8080/"
        },
        "outputId": "16257f7a-706b-4f10-cf92-14d0d762197b"
      },
      "execution_count": 3,
      "outputs": [
        {
          "output_type": "stream",
          "name": "stdout",
          "text": [
            "Introduce el porcentaje de crecimiento de producción: 30\n",
            "Hubo un crecimiento en la producción.\n"
          ]
        }
      ]
    },
    {
      "cell_type": "markdown",
      "source": [
        "3 - Escribe un programa que determine si una letra proporcionada por la persona usuaria es una vocal o una consonante."
      ],
      "metadata": {
        "id": "w9eiUFo0_9qF"
      }
    },
    {
      "cell_type": "code",
      "source": [
        "letra = input(\"Introduce una letra: \").lower()\n",
        "\n",
        "if letra in 'aeiou':\n",
        "    print(\"La letra es una vocal.\")\n",
        "elif letra.isalpha() and len(letra) == 1:\n",
        "    print(\"La letra es una consonante.\")\n",
        "else:\n",
        "    print(\"Por favor, introduce una letra válida.\")"
      ],
      "metadata": {
        "id": "sGD7tngOADmY",
        "colab": {
          "base_uri": "https://localhost:8080/"
        },
        "outputId": "6f8dd2f5-aaec-43fb-fa6f-fda32ae8f12c"
      },
      "execution_count": 5,
      "outputs": [
        {
          "output_type": "stream",
          "name": "stdout",
          "text": [
            "Introduce una letra: l\n",
            "La letra es una consonante.\n"
          ]
        }
      ]
    },
    {
      "cell_type": "markdown",
      "source": [
        "4 - Escribe un programa que lea valores promedio de precios de un modelo de automóvil durante 3 años consecutivos y muestre el valor más alto y más bajo entre esos tres años."
      ],
      "metadata": {
        "id": "C7onth6hBoDY"
      }
    },
    {
      "cell_type": "code",
      "source": [
        "precio_ano1 = float(input(\"Introduce el precio promedio del automóvil en el primer año: \"))\n",
        "precio_ano2 = float(input(\"Introduce el precio promedio del automóvil en el segundo año: \"))\n",
        "precio_ano3 = float(input(\"Introduce el precio promedio del automóvil en el tercer año: \"))\n",
        "\n",
        "precio_maximo = max(precio_ano1, precio_ano2, precio_ano3)\n",
        "precio_minimo = min(precio_ano1, precio_ano2, precio_ano3)\n",
        "\n",
        "print(f\"El precio más alto es: {precio_maximo}\")\n",
        "print(f\"El precio más bajo es: {precio_minimo}\")"
      ],
      "metadata": {
        "id": "zPuv7HkJBqk3",
        "colab": {
          "base_uri": "https://localhost:8080/"
        },
        "outputId": "ea4dcffd-ff1c-4513-ff77-8261387d9798"
      },
      "execution_count": 6,
      "outputs": [
        {
          "output_type": "stream",
          "name": "stdout",
          "text": [
            "Introduce el precio promedio del automóvil en el primer año: 300\n",
            "Introduce el precio promedio del automóvil en el segundo año: 600\n",
            "Introduce el precio promedio del automóvil en el tercer año: 400\n",
            "El precio más alto es: 600.0\n",
            "El precio más bajo es: 300.0\n"
          ]
        }
      ]
    },
    {
      "cell_type": "markdown",
      "source": [
        "5 - Escribe un programa que pregunte sobre el precio de tres productos e indique cuál es el producto más barato para comprar."
      ],
      "metadata": {
        "id": "Hmd3rPyKBq6i"
      }
    },
    {
      "cell_type": "code",
      "source": [
        "producto1 = float(input(\"Introduce el precio del primer producto: \"))\n",
        "producto2 = float(input(\"Introduce el precio del segundo producto: \"))\n",
        "producto3 = float(input(\"Introduce el precio del tercer producto: \"))\n",
        "\n",
        "if producto1 < producto2 and producto1 < producto3:\n",
        "    print(\"El primer producto es el más barato.\")\n",
        "elif producto2 < producto1 and producto2 < producto3:\n",
        "    print(\"El segundo producto es el más barato.\")\n",
        "elif producto3 < producto1 and producto3 < producto2:\n",
        "    print(\"El tercer producto es el más barato.\")\n",
        "else:\n",
        "    print(\"Hay un empate entre los precios de los productos.\")"
      ],
      "metadata": {
        "id": "ewJucWCEBta0",
        "colab": {
          "base_uri": "https://localhost:8080/"
        },
        "outputId": "3b54a445-636f-4b9a-c5f4-fe4a2ad96284"
      },
      "execution_count": 7,
      "outputs": [
        {
          "output_type": "stream",
          "name": "stdout",
          "text": [
            "Introduce el precio del primer producto: 20\n",
            "Introduce el precio del segundo producto: 50\n",
            "Introduce el precio del tercer producto: 90\n",
            "El primer producto es el más barato.\n"
          ]
        }
      ]
    },
    {
      "cell_type": "markdown",
      "source": [
        "6 - Escribe un programa que lea tres números y los muestre en orden descendente."
      ],
      "metadata": {
        "id": "tOZxpl2BBuEV"
      }
    },
    {
      "cell_type": "code",
      "source": [
        "numero1 = float(input(\"Introduce el primer número: \"))\n",
        "numero2 = float(input(\"Introduce el segundo número: \"))\n",
        "numero3 = float(input(\"Introduce el tercer número: \"))\n",
        "\n",
        "numeros = [numero1, numero2, numero3]\n",
        "\n",
        "numeros.sort(reverse=True)\n",
        "\n",
        "print(\"Los números en orden descendente son:\", numeros)"
      ],
      "metadata": {
        "id": "dVv2-ggKBwIC",
        "colab": {
          "base_uri": "https://localhost:8080/"
        },
        "outputId": "a7e09794-f432-4f4e-c83c-13147ea36496"
      },
      "execution_count": 8,
      "outputs": [
        {
          "output_type": "stream",
          "name": "stdout",
          "text": [
            "Introduce el primer número: 3\n",
            "Introduce el segundo número: 8\n",
            "Introduce el tercer número: 1\n",
            "Los números en orden descendente son: [8.0, 3.0, 1.0]\n"
          ]
        }
      ]
    },
    {
      "cell_type": "markdown",
      "source": [
        "7 -Escribe un programa que pregunte en qué turno estudia la persona usuaria (\"mañana\", \"tarde\" o \"noche\") y muestre el mensaje \"¡Buenos Días!\", \"¡Buenas Tardes!\", \"¡Buenas Noches!\" o \"Valor Inválido!\", según el caso."
      ],
      "metadata": {
        "id": "c4l1NvSeBwfm"
      }
    },
    {
      "cell_type": "code",
      "source": [
        "turno = input(\"¿En qué turno estudias? (mañana, tarde o noche): \").lower()\n",
        "\n",
        "if turno == \"mañana\":\n",
        "    print(\"¡Buenos Días!\")\n",
        "elif turno == \"tarde\":\n",
        "    print(\"¡Buenas Tardes!\")\n",
        "elif turno == \"noche\":\n",
        "    print(\"¡Buenas Noches!\")\n",
        "else:\n",
        "    print(\"Valor Inválido!\")"
      ],
      "metadata": {
        "id": "vS2FO7L6B8UA",
        "colab": {
          "base_uri": "https://localhost:8080/"
        },
        "outputId": "0dd14b4c-42f8-41f9-ff7d-6f71f71d1349"
      },
      "execution_count": 9,
      "outputs": [
        {
          "output_type": "stream",
          "name": "stdout",
          "text": [
            "¿En qué turno estudias? (mañana, tarde o noche): tarde\n",
            "¡Buenas Tardes!\n"
          ]
        }
      ]
    },
    {
      "cell_type": "markdown",
      "source": [
        "8 - Escribe un programa que solicite un número entero a la persona usuaria y determine si es par o impar. Pista: Puedes usar el operador módulo (%)."
      ],
      "metadata": {
        "id": "y2mJXOcgB8u5"
      }
    },
    {
      "cell_type": "code",
      "source": [
        "numero = int(input(\"Introduce un número entero: \"))\n",
        "\n",
        "if numero % 2 == 0:\n",
        "    print(\"El número es par.\")\n",
        "else:\n",
        "    print(\"El número es impar.\")"
      ],
      "metadata": {
        "id": "DW99I9QmB_Kk",
        "colab": {
          "base_uri": "https://localhost:8080/"
        },
        "outputId": "172491f4-180b-4d81-f45a-8d1cf342b50e"
      },
      "execution_count": 10,
      "outputs": [
        {
          "output_type": "stream",
          "name": "stdout",
          "text": [
            "Introduce un número entero: 8\n",
            "El número es par.\n"
          ]
        }
      ]
    },
    {
      "cell_type": "markdown",
      "source": [
        "9 - Escribe un programa que pida un número a la persona usuaria y le informe si es entero o decimal."
      ],
      "metadata": {
        "id": "ax-1lfBNCy7L"
      }
    },
    {
      "cell_type": "code",
      "source": [
        "numero = input(\"Introduce un número: \")\n",
        "\n",
        "if '.' in numero:\n",
        "\n",
        "    if numero.replace('.', '', 1).isdigit():\n",
        "        print(\"El número es decimal.\")\n",
        "    else:\n",
        "        print(\"Por favor, introduce un número válido.\")\n",
        "else:\n",
        "\n",
        "    if numero.isdigit() or (numero[0] == '-' and numero[1:].isdigit()):\n",
        "        print(\"El número es entero.\")\n",
        "    else:\n",
        "        print(\"Por favor, introduce un número válido.\")"
      ],
      "metadata": {
        "id": "cxwB2j0nC2P5",
        "colab": {
          "base_uri": "https://localhost:8080/"
        },
        "outputId": "0fa80e18-b55c-4694-f7d5-35f575acbf1c"
      },
      "execution_count": 11,
      "outputs": [
        {
          "output_type": "stream",
          "name": "stdout",
          "text": [
            "Introduce un número: 6\n",
            "El número es entero.\n"
          ]
        }
      ]
    },
    {
      "cell_type": "markdown",
      "source": [
        "10 - Un programa debe ser escrito para leer dos números y luego preguntar a la persona usuaria qué operación desea realizar. El resultado de la operación debe incluir información sobre el número, si es par o impar, positivo o negativo, e entero o decimal."
      ],
      "metadata": {
        "id": "wZmte2MuC2lQ"
      }
    },
    {
      "cell_type": "code",
      "source": [
        "# Solicitar los dos números\n",
        "numero1 = float(input(\"Introduce el primer número: \"))\n",
        "numero2 = float(input(\"Introduce el segundo número: \"))\n",
        "\n",
        "# Solicitar la operación a realizar\n",
        "print(\"Operaciones disponibles:\")\n",
        "print(\"1. Sumar\")\n",
        "print(\"2. Restar\")\n",
        "print(\"3. Multiplicar\")\n",
        "print(\"4. Dividir\")\n",
        "\n",
        "operacion = input(\"¿Qué operación deseas realizar? (1/2/3/4): \")\n",
        "\n",
        "# Realizar la operación\n",
        "if operacion == '1':\n",
        "    resultado = numero1 + numero2\n",
        "    operacion_str = \"suma\"\n",
        "elif operacion == '2':\n",
        "    resultado = numero1 - numero2\n",
        "    operacion_str = \"resta\"\n",
        "elif operacion == '3':\n",
        "    resultado = numero1 * numero2\n",
        "    operacion_str = \"multiplicación\"\n",
        "elif operacion == '4':\n",
        "    if numero2 != 0:\n",
        "        resultado = numero1 / numero2\n",
        "        operacion_str = \"división\"\n",
        "    else:\n",
        "        resultado = \"Indefinido (división por cero)\"\n",
        "        operacion_str = \"división\"\n",
        "else:\n",
        "    print(\"Operación no válida.\")\n",
        "    exit()\n",
        "\n",
        "# Función para analizar el número\n",
        "def analizar_numero(numero):\n",
        "    par_impar = \"par\" if numero % 2 == 0 else \"impar\"\n",
        "    positivo_negativo = \"positivo\" if numero > 0 else \"negativo\" if numero < 0 else \"cero\"\n",
        "    tipo = \"entero\" if numero.is_integer() else \"decimal\"\n",
        "    return f\"{par_impar}, {positivo_negativo}, {tipo}\"\n",
        "\n",
        "# Mostrar los resultados\n",
        "print(f\"\\nResultado de la {operacion_str}: {resultado}\")\n",
        "print(f\"Primer número: {numero1} -> {analizar_numero(numero1)}\")\n",
        "print(f\"Segundo número: {numero2} -> {analizar_numero(numero2)}\")\n",
        "if isinstance(resultado, float):\n",
        "    print(f\"Resultado: {resultado} -> {analizar_numero(resultado)}\")\n",
        "else:\n",
        "    print(f\"Resultado: {resultado}\")"
      ],
      "metadata": {
        "id": "xxNducdaC4kR",
        "colab": {
          "base_uri": "https://localhost:8080/"
        },
        "outputId": "de7b0c2e-ec57-41b2-a6a8-772bd26b230b"
      },
      "execution_count": 1,
      "outputs": [
        {
          "output_type": "stream",
          "name": "stdout",
          "text": [
            "Introduce el primer número: 3\n",
            "Introduce el segundo número: 9\n",
            "Operaciones disponibles:\n",
            "1. Sumar\n",
            "2. Restar\n",
            "3. Multiplicar\n",
            "4. Dividir\n",
            "¿Qué operación deseas realizar? (1/2/3/4): 3\n",
            "\n",
            "Resultado de la multiplicación: 27.0\n",
            "Primer número: 3.0 -> impar, positivo, entero\n",
            "Segundo número: 9.0 -> impar, positivo, entero\n",
            "Resultado: 27.0 -> impar, positivo, entero\n"
          ]
        }
      ]
    }
  ]
}