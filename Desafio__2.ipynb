{
  "nbformat": 4,
  "nbformat_minor": 0,
  "metadata": {
    "colab": {
      "provenance": [],
      "authorship_tag": "ABX9TyNXhkYAz1faUxV0iNhUYk8y",
      "include_colab_link": true
    },
    "kernelspec": {
      "name": "python3",
      "display_name": "Python 3"
    },
    "language_info": {
      "name": "python"
    }
  },
  "cells": [
    {
      "cell_type": "markdown",
      "metadata": {
        "id": "view-in-github",
        "colab_type": "text"
      },
      "source": [
        "<a href=\"https://colab.research.google.com/github/MacarenaQuijadaG/Python_Ejercicios/blob/main/Desafio__2.ipynb\" target=\"_parent\"><img src=\"https://colab.research.google.com/assets/colab-badge.svg\" alt=\"Open In Colab\"/></a>"
      ]
    },
    {
      "cell_type": "markdown",
      "source": [
        "## **Desafio 2**"
      ],
      "metadata": {
        "id": "yGnW83hV_nWy"
      }
    },
    {
      "cell_type": "markdown",
      "source": [
        "1 - Escribe un programa que pida a la persona usuaria que proporcione dos números y muestre el número más grande."
      ],
      "metadata": {
        "id": "SwmduDFk_8F1"
      }
    },
    {
      "cell_type": "code",
      "source": [],
      "metadata": {
        "id": "f5VCcRT5_3Tq"
      },
      "execution_count": null,
      "outputs": []
    },
    {
      "cell_type": "markdown",
      "source": [
        "2 - Escribe un programa que solicite el porcentaje de crecimiento de producción de una empresa e informe si hubo un crecimiento (porcentaje positivo) o una disminución (porcentaje negativo)."
      ],
      "metadata": {
        "id": "IlY9fjQK_yw-"
      }
    },
    {
      "cell_type": "code",
      "source": [],
      "metadata": {
        "id": "mxTNKn0g_4Ff"
      },
      "execution_count": null,
      "outputs": []
    },
    {
      "cell_type": "markdown",
      "source": [
        "3 - Escribe un programa que determine si una letra proporcionada por la persona usuaria es una vocal o una consonante."
      ],
      "metadata": {
        "id": "w9eiUFo0_9qF"
      }
    },
    {
      "cell_type": "code",
      "source": [],
      "metadata": {
        "id": "sGD7tngOADmY"
      },
      "execution_count": null,
      "outputs": []
    },
    {
      "cell_type": "markdown",
      "source": [
        "4 - Escribe un programa que lea valores promedio de precios de un modelo de automóvil durante 3 años consecutivos y muestre el valor más alto y más bajo entre esos tres años."
      ],
      "metadata": {
        "id": "C7onth6hBoDY"
      }
    },
    {
      "cell_type": "code",
      "source": [],
      "metadata": {
        "id": "zPuv7HkJBqk3"
      },
      "execution_count": null,
      "outputs": []
    },
    {
      "cell_type": "markdown",
      "source": [
        "5 - Escribe un programa que pregunte sobre el precio de tres productos e indique cuál es el producto más barato para comprar."
      ],
      "metadata": {
        "id": "Hmd3rPyKBq6i"
      }
    },
    {
      "cell_type": "code",
      "source": [],
      "metadata": {
        "id": "ewJucWCEBta0"
      },
      "execution_count": null,
      "outputs": []
    },
    {
      "cell_type": "markdown",
      "source": [
        "6 - Escribe un programa que lea tres números y los muestre en orden descendente."
      ],
      "metadata": {
        "id": "tOZxpl2BBuEV"
      }
    },
    {
      "cell_type": "code",
      "source": [],
      "metadata": {
        "id": "dVv2-ggKBwIC"
      },
      "execution_count": null,
      "outputs": []
    },
    {
      "cell_type": "markdown",
      "source": [
        "7 -Escribe un programa que pregunte en qué turno estudia la persona usuaria (\"mañana\", \"tarde\" o \"noche\") y muestre el mensaje \"¡Buenos Días!\", \"¡Buenas Tardes!\", \"¡Buenas Noches!\" o \"Valor Inválido!\", según el caso."
      ],
      "metadata": {
        "id": "c4l1NvSeBwfm"
      }
    },
    {
      "cell_type": "code",
      "source": [],
      "metadata": {
        "id": "vS2FO7L6B8UA"
      },
      "execution_count": null,
      "outputs": []
    },
    {
      "cell_type": "markdown",
      "source": [
        "8 - Escribe un programa que solicite un número entero a la persona usuaria y determine si es par o impar. Pista: Puedes usar el operador módulo (%)."
      ],
      "metadata": {
        "id": "y2mJXOcgB8u5"
      }
    },
    {
      "cell_type": "code",
      "source": [],
      "metadata": {
        "id": "DW99I9QmB_Kk"
      },
      "execution_count": null,
      "outputs": []
    },
    {
      "cell_type": "markdown",
      "source": [
        "9 - Escribe un programa que pida un número a la persona usuaria y le informe si es entero o decimal."
      ],
      "metadata": {
        "id": "ax-1lfBNCy7L"
      }
    },
    {
      "cell_type": "code",
      "source": [],
      "metadata": {
        "id": "cxwB2j0nC2P5"
      },
      "execution_count": null,
      "outputs": []
    },
    {
      "cell_type": "markdown",
      "source": [
        "10 - Un programa debe ser escrito para leer dos números y luego preguntar a la persona usuaria qué operación desea realizar. El resultado de la operación debe incluir información sobre el número, si es par o impar, positivo o negativo, e entero o decimal."
      ],
      "metadata": {
        "id": "wZmte2MuC2lQ"
      }
    },
    {
      "cell_type": "code",
      "source": [],
      "metadata": {
        "id": "xxNducdaC4kR"
      },
      "execution_count": null,
      "outputs": []
    },
    {
      "cell_type": "markdown",
      "source": [
        "11 - Escribe un programa que pida a la persona usuaria tres números que representan los lados de un triángulo. El programa debe informar si los valores pueden utilizarse para formar un triángulo y, en caso afirmativo, si es equilátero, isósceles o escaleno. Ten en cuenta algunas sugerencias:\n",
        "\n",
        "\n",
        "\n",
        "1.   Tres lados forman un triángulo cuando la suma de cualesquiera dos lados es mayor que el tercero;\n",
        "2.   Triángulo Equilátero: tres lados iguales;\n",
        "3.  Triángulo Isósceles: dos lados iguales;\n",
        "4.  Triángulo Escaleno: tres lados diferentes.\n",
        "\n",
        "\n",
        "\n",
        "\n"
      ],
      "metadata": {
        "id": "vsa22r74DTlg"
      }
    },
    {
      "cell_type": "code",
      "source": [],
      "metadata": {
        "id": "Duj2QcqPEfS6"
      },
      "execution_count": null,
      "outputs": []
    },
    {
      "cell_type": "markdown",
      "source": [
        "12 - Un establecimiento está vendiendo combustibles con descuentos variables. Para el etanol, si la cantidad comprada es de hasta 15 litros, el descuento será del 2% por litro. En caso contrario, será del 4% por litro. Para el diésel, si la cantidad comprada es de hasta 15 litros, el descuento será del 3% por litro. En caso contrario, será del 5% por litro. El precio por litro de diésel es de R$ 2,00 y el precio por litro de etanol es de R$ 1,70. Escribe un programa que lea la cantidad de litros vendidos y el tipo de combustible (E para etanol y D para diésel) y calcule el valor a pagar por el cliente. Ten en cuenta algunas sugerencias:\n",
        "\n",
        "\n",
        "*   El valor del descuento será el producto del precio por litro, la cantidad de litros y el valor del descuento.\n",
        "*   El valor a pagar por un cliente será el resultado de la multiplicación del precio por litro por la cantidad de litros menos el valor del descuento resultante del cálculo.\n",
        "\n"
      ],
      "metadata": {
        "id": "NGOoTp6nEfvR"
      }
    },
    {
      "cell_type": "code",
      "source": [],
      "metadata": {
        "id": "5PmIyMcIEvEG"
      },
      "execution_count": null,
      "outputs": []
    },
    {
      "cell_type": "markdown",
      "source": [
        "13 - En una empresa de venta de bienes raíces, debes crear un código que analice los datos de ventas anuales para ayudar a la dirección en la toma de decisiones. El código debe recopilar los datos de cantidad de ventas durante los años 2022 y 2023 y calcular la variación porcentual. A partir del valor de la variación, se deben proporcionar las siguientes sugerencias:\n",
        "\n",
        "*   Para una variación superior al 20%: bonificación para el equipo de ventas.\n",
        "*   Para una variación entre el 2% y el 20%: pequeña bonificación para el equipo de ventas.\n",
        "*  Para una variación entre el 2% y el -10%: planificación de políticas de incentivo a las ventas.\n",
        "* Para bonificaciones inferiores al -10%: recorte de gastos.\n",
        "\n"
      ],
      "metadata": {
        "id": "BYAvvFylEvys"
      }
    },
    {
      "cell_type": "code",
      "source": [],
      "metadata": {
        "id": "7GVas4PiE983"
      },
      "execution_count": null,
      "outputs": []
    }
  ]
}