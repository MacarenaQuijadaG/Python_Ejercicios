{
  "nbformat": 4,
  "nbformat_minor": 0,
  "metadata": {
    "colab": {
      "provenance": [],
      "authorship_tag": "ABX9TyP0ITYWnUJg4Gni5WYuxKNP",
      "include_colab_link": true
    },
    "kernelspec": {
      "name": "python3",
      "display_name": "Python 3"
    },
    "language_info": {
      "name": "python"
    }
  },
  "cells": [
    {
      "cell_type": "markdown",
      "metadata": {
        "id": "view-in-github",
        "colab_type": "text"
      },
      "source": [
        "<a href=\"https://colab.research.google.com/github/MacarenaQuijadaG/Python_Ejercicios/blob/main/Desafio__3.ipynb\" target=\"_parent\"><img src=\"https://colab.research.google.com/assets/colab-badge.svg\" alt=\"Open In Colab\"/></a>"
      ]
    },
    {
      "cell_type": "markdown",
      "source": [
        "# **Desafio 3**"
      ],
      "metadata": {
        "id": "V0QaKp4GD9HD"
      }
    },
    {
      "cell_type": "markdown",
      "source": [
        "1 - Crea un código para imprimir la suma de los elementos de cada una de las listas contenidas en la siguiente lista:\n",
        "\n",
        "* lista_de_listas = [[4, 6, 5, 9], [1, 0, 7, 2], [3, 4, 1, 8]]"
      ],
      "metadata": {
        "id": "uioSdebdD9EX"
      }
    },
    {
      "cell_type": "code",
      "source": [
        "lista_de_listas = [[4, 6, 5, 9], [1, 0, 7, 2], [3, 4, 1, 8]]\n",
        "\n",
        "for i, sublista in enumerate(lista_de_listas):\n",
        "    suma = sum(sublista)\n",
        "    print(f\"Suma de la sublista {i + 1}: {suma}\")"
      ],
      "metadata": {
        "colab": {
          "base_uri": "https://localhost:8080/"
        },
        "id": "p-9-cS0yEC07",
        "outputId": "03250f8d-f3c6-4536-ca04-639aa0a40bb4"
      },
      "execution_count": 1,
      "outputs": [
        {
          "output_type": "stream",
          "name": "stdout",
          "text": [
            "Suma de la sublista 1: 24\n",
            "Suma de la sublista 2: 10\n",
            "Suma de la sublista 3: 16\n"
          ]
        }
      ]
    },
    {
      "cell_type": "markdown",
      "source": [
        "2 - Crea un código para generar una lista que almacene el tercer elemento de cada tupla contenida en la siguiente lista de tuplas:\n",
        "\n",
        "* lista_de_tuplas = [('Pedro', 1.74, 81), ('Júlia', 1.65, 67), ('Otávio', 1.81, 83)]"
      ],
      "metadata": {
        "id": "UFjhj-5ID82l"
      }
    },
    {
      "cell_type": "code",
      "execution_count": 2,
      "metadata": {
        "colab": {
          "base_uri": "https://localhost:8080/"
        },
        "id": "cxSoa0BpD5lB",
        "outputId": "1a1a512d-eb6c-431e-a9df-e4e996054e07"
      },
      "outputs": [
        {
          "output_type": "stream",
          "name": "stdout",
          "text": [
            "[81, 67, 83]\n"
          ]
        }
      ],
      "source": [
        "lista_de_tuplas = [('Pedro', 1.74, 81), ('Júlia', 1.65, 67), ('Otávio', 1.81, 83)]\n",
        "\n",
        "terceros_elementos = [tupla[2] for tupla in lista_de_tuplas]\n",
        "\n",
        "print(terceros_elementos)"
      ]
    },
    {
      "cell_type": "markdown",
      "source": [
        "3 - A partir de la lista: lista = ['Pedro', 'Júlia', 'Otávio', 'Eduardo'], crea un código para generar una lista de tuplas en la que cada tupla tenga el primer elemento como la posición del nombre en la lista original y el segundo elemento siendo el propio nombre."
      ],
      "metadata": {
        "id": "Fas-mVZnET9N"
      }
    },
    {
      "cell_type": "code",
      "source": [
        "lista = ['Pedro', 'Júlia', 'Otávio', 'Eduardo']\n",
        "\n",
        "lista_de_tuplas = [(indice, nombre) for indice, nombre in enumerate(lista)]\n",
        "\n",
        "print(lista_de_tuplas)"
      ],
      "metadata": {
        "colab": {
          "base_uri": "https://localhost:8080/"
        },
        "id": "feYYaV8ZEdwD",
        "outputId": "2a7e6e6e-174a-44dd-ffc4-7f228e130ccc"
      },
      "execution_count": 3,
      "outputs": [
        {
          "output_type": "stream",
          "name": "stdout",
          "text": [
            "[(0, 'Pedro'), (1, 'Júlia'), (2, 'Otávio'), (3, 'Eduardo')]\n"
          ]
        }
      ]
    },
    {
      "cell_type": "markdown",
      "source": [
        "4 - Crea una lista usando la comprensión de listas (list comprehension) que almacene solo el valor numérico de cada tupla en caso de que el primer elemento sea 'Apartamento', a partir de la siguiente lista de tuplas:\n",
        "* alquiler = [('Apartamento', 1700), ('Apartamento', 1400), ('Casa', 2150), ('Apartamento', 1900), ('Casa', 1100)]"
      ],
      "metadata": {
        "id": "jd3rOWUjEpLq"
      }
    },
    {
      "cell_type": "code",
      "source": [
        "alquiler = [('Apartamento', 1700), ('Apartamento', 1400), ('Casa', 2150), ('Apartamento', 1900), ('Casa', 1100)]\n",
        "\n",
        "alquiler_apartamentos = [valor for tipo, valor in alquiler if tipo == 'Apartamento']\n",
        "\n",
        "print(alquiler_apartamentos)\n"
      ],
      "metadata": {
        "colab": {
          "base_uri": "https://localhost:8080/"
        },
        "id": "ZngGDDqJEuf1",
        "outputId": "06482ed7-b6d6-4654-a823-cd4385194c6f"
      },
      "execution_count": 4,
      "outputs": [
        {
          "output_type": "stream",
          "name": "stdout",
          "text": [
            "[1700, 1400, 1900]\n"
          ]
        }
      ]
    },
    {
      "cell_type": "markdown",
      "source": [
        "5 - Crea un diccionario usando la comprensión de diccionarios (dict comprehension) en el que las claves estén en la lista meses = ['Jan', 'Fev', 'Mar', 'Abr', 'Mai', 'Jun', 'Jul', 'Ago', 'Set', 'Out', 'Nov', 'Dez'] y los valores estén en gasto = [860, 490, 1010, 780, 900, 630, 590, 770, 620, 560, 840, 360]."
      ],
      "metadata": {
        "id": "GZp4zuhcE-ot"
      }
    },
    {
      "cell_type": "code",
      "source": [
        "meses = ['Jan', 'Fev', 'Mar', 'Abr', 'Mai', 'Jun', 'Jul', 'Ago', 'Set', 'Out', 'Nov', 'Dez']\n",
        "gasto = [860, 490, 1010, 780, 900, 630, 590, 770, 620, 560, 840, 360]\n",
        "\n",
        "gastos_por_mes = {mes: valor for mes, valor in zip(meses, gasto)}\n",
        "\n",
        "print(gastos_por_mes)\n"
      ],
      "metadata": {
        "colab": {
          "base_uri": "https://localhost:8080/"
        },
        "id": "ALl73KChE5CD",
        "outputId": "80b67862-b6e5-4658-8a23-0fb75235f7ce"
      },
      "execution_count": 5,
      "outputs": [
        {
          "output_type": "stream",
          "name": "stdout",
          "text": [
            "{'Jan': 860, 'Fev': 490, 'Mar': 1010, 'Abr': 780, 'Mai': 900, 'Jun': 630, 'Jul': 590, 'Ago': 770, 'Set': 620, 'Out': 560, 'Nov': 840, 'Dez': 360}\n"
          ]
        }
      ]
    },
    {
      "cell_type": "markdown",
      "source": [
        "6 - Una tienda tiene una base de datos con la información de venta de cada representante y de cada año y necesita filtrar solo los datos del año 2022 con ventas mayores a 6000. La tienda proporcionó una muestra con solo las columnas de los años y los valores de venta para que puedas ayudar a realizar la filtración de los datos a través de un código:\n",
        "* ventas = [('2023', 4093), ('2021', 4320), ('2021', 5959), ('2022', 8883), ('2023', 9859), ('2022', 5141), ('2022', 7688), ('2022', 9544), ('2023', 4794), ('2021', 7178), ('2022', 3030), ('2021', 7471), ('2022', 4226), ('2022', 8190), ('2021', 9680), ('2022', 5616)]"
      ],
      "metadata": {
        "id": "j6iSm7R8E_69"
      }
    },
    {
      "cell_type": "code",
      "source": [
        "ventas = [\n",
        "    ('2023', 4093), ('2021', 4320), ('2021', 5959), ('2022', 8883),\n",
        "    ('2023', 9859), ('2022', 5141), ('2022', 7688), ('2022', 9544),\n",
        "    ('2023', 4794), ('2021', 7178), ('2022', 3030), ('2021', 7471),\n",
        "    ('2022', 4226), ('2022', 8190), ('2021', 9680), ('2022', 5616)\n",
        "]\n",
        "\n",
        "# Lista con solo los valores de 2022 mayores a 6000\n",
        "valores_2022_mayores_6000 = [venta for anio, venta in ventas if anio == '2022' and venta > 6000]\n",
        "\n",
        "print(valores_2022_mayores_6000)\n",
        "\n"
      ],
      "metadata": {
        "colab": {
          "base_uri": "https://localhost:8080/"
        },
        "id": "H5vCA9c-FIrX",
        "outputId": "cc736a2f-05e4-4f8d-b327-ffe9b96e34dd"
      },
      "execution_count": 7,
      "outputs": [
        {
          "output_type": "stream",
          "name": "stdout",
          "text": [
            "[8883, 7688, 9544, 8190]\n"
          ]
        }
      ]
    },
    {
      "cell_type": "markdown",
      "source": [
        " - Una clínica analiza datos de pacientes y almacena el valor numérico de la glucosa en una base de datos y le gustaría etiquetar los datos de la siguiente manera:\n",
        "\n",
        "Glucosa igual o inferior a 70: 'Hipoglicemia'\n",
        "Glucosa entre 70 y 99: 'Normal'\n",
        "Glucosa entre 100 y 125: 'Alterada'\n",
        "Glucosa superior a 125: 'Diabetes'\n",
        "La clínica proporcionó parte de los valores y tu tarea es crear una lista de tuplas usando la comprensión de listas que contenga la etiqueta y el valor de la glucemia en cada tupla.\n",
        "* glicemia = [129, 82, 60, 97, 101, 65, 62, 167, 87, 53, 58, 92, 66, 120, 109, 62, 86, 96, 103, 88, 155, 52, 89, 73]"
      ],
      "metadata": {
        "id": "G0BAHYq4FacF"
      }
    },
    {
      "cell_type": "code",
      "source": [
        "glicemia = [129, 82, 60, 97, 101, 65, 62, 167, 87, 53, 58, 92, 66, 120, 109, 62, 86, 96, 103, 88, 155, 52, 89, 73]\n",
        "\n",
        "resultado = [\n",
        "    (\n",
        "        'Hipoglicemia' if valor <= 70 else\n",
        "        'Normal' if valor <= 99 else\n",
        "        'Alterada' if valor <= 125 else\n",
        "        'Diabetes',\n",
        "        valor\n",
        "    )\n",
        "    for valor in glicemia\n",
        "]\n",
        "\n",
        "print(resultado)\n"
      ],
      "metadata": {
        "colab": {
          "base_uri": "https://localhost:8080/"
        },
        "id": "nCXOZlRNFZ6k",
        "outputId": "af529835-5036-4cf4-eeef-c1d2a546a5dc"
      },
      "execution_count": 8,
      "outputs": [
        {
          "output_type": "stream",
          "name": "stdout",
          "text": [
            "[('Diabetes', 129), ('Normal', 82), ('Hipoglicemia', 60), ('Normal', 97), ('Alterada', 101), ('Hipoglicemia', 65), ('Hipoglicemia', 62), ('Diabetes', 167), ('Normal', 87), ('Hipoglicemia', 53), ('Hipoglicemia', 58), ('Normal', 92), ('Hipoglicemia', 66), ('Alterada', 120), ('Alterada', 109), ('Hipoglicemia', 62), ('Normal', 86), ('Normal', 96), ('Alterada', 103), ('Normal', 88), ('Diabetes', 155), ('Hipoglicemia', 52), ('Normal', 89), ('Normal', 73)]\n"
          ]
        }
      ]
    },
    {
      "cell_type": "markdown",
      "source": [
        "8 - Un comercio electrónico tiene información de id de venta, cantidad vendida y precio del producto divididos en las siguientes listas:\n",
        "\n",
        "* id = [0, 1, 2, 3, 4, 5, 6, 7, 8, 9]\n",
        "* cantidad = [15, 12, 1, 15, 2, 11, 2, 12, 2, 4]\n",
        "* precio = [93.0, 102.0, 18.0, 41.0, 122.0, 14.0, 71.0, 48.0, 14.0, 144.0]\n",
        "\n",
        "* La plataforma necesita estructurar estos datos en una tabla que contenga el valor total de la venta, que se obtiene multiplicando la cantidad por el precio unitario. Además, la tabla debe contener un encabezado indicando las columnas: 'id', 'cantidad', 'precio' y 'total'.\n",
        "\n",
        "* Crea una lista de tuplas en la que cada tupla tenga id, cantidad, precio y valor total, siendo la primera tupla el encabezado de la tabla."
      ],
      "metadata": {
        "id": "19bB5gTrFkRM"
      }
    },
    {
      "cell_type": "code",
      "source": [
        "id = [0, 1, 2, 3, 4, 5, 6, 7, 8, 9]\n",
        "cantidad = [15, 12, 1, 15, 2, 11, 2, 12, 2, 4]\n",
        "precio = [93.0, 102.0, 18.0, 41.0, 122.0, 14.0, 71.0, 48.0, 14.0, 144.0]\n",
        "\n",
        "tabla = [('id', 'cantidad', 'precio', 'total')]\n",
        "\n",
        "tabla += [(i, c, p, c * p) for i, c, p in zip(id, cantidad, precio)]\n",
        "\n",
        "for fila in tabla:\n",
        "    print(fila)\n"
      ],
      "metadata": {
        "colab": {
          "base_uri": "https://localhost:8080/"
        },
        "id": "rySdy2XiFvVk",
        "outputId": "8f52f441-bfb0-4054-c39a-432e7e5162f4"
      },
      "execution_count": 9,
      "outputs": [
        {
          "output_type": "stream",
          "name": "stdout",
          "text": [
            "('id', 'cantidad', 'precio', 'total')\n",
            "(0, 15, 93.0, 1395.0)\n",
            "(1, 12, 102.0, 1224.0)\n",
            "(2, 1, 18.0, 18.0)\n",
            "(3, 15, 41.0, 615.0)\n",
            "(4, 2, 122.0, 244.0)\n",
            "(5, 11, 14.0, 154.0)\n",
            "(6, 2, 71.0, 142.0)\n",
            "(7, 12, 48.0, 576.0)\n",
            "(8, 2, 14.0, 28.0)\n",
            "(9, 4, 144.0, 576.0)\n"
          ]
        }
      ]
    },
    {
      "cell_type": "markdown",
      "source": [
        "9 - Una empresa tiene sucursales distribuidas en los estados de la región Sudeste de Brasil. En una de las tablas de registro de las sucursales, hay una columna que contiene la información de a qué estado pertenece: estados =['CMX', 'OAX', 'PUE', 'PUE', 'CMX', 'PUE', 'OAX', 'OAX', 'OAX', 'CMX', 'CMX', 'PUE', 'OAX', 'CMX', 'VER', 'PUE', 'VER', 'CMX', 'PUE', 'CMX', 'OAX', 'CMX', 'PUE'].\n",
        "\n",
        "* La empresa siempre está abriendo nuevas sucursales, por lo que la tabla está constantemente recibiendo nuevos registros y al gerente le gustaría tener la información actualizada de la cantidad de sucursales en cada estado.\n",
        "\n",
        "* A partir de la columna con la información de los estados, crea un diccionario utilizando la comprensión de diccionarios (dict comprehension) con la clave siendo el nombre de un estado y el valor siendo la cantidad de veces que aparece el estado en la lista.\n",
        "\n",
        "* Consejo: Puedes hacer un paso intermedio para generar una lista de listas en la que cada una de las listas tenga el nombre de solo un estado con valores repetidos."
      ],
      "metadata": {
        "id": "xQJnnSKuF8IK"
      }
    },
    {
      "cell_type": "code",
      "source": [
        "estados = [\n",
        "    'CMX', 'OAX', 'PUE', 'PUE', 'CMX', 'PUE', 'OAX', 'OAX', 'OAX', 'CMX',\n",
        "    'CMX', 'PUE', 'OAX', 'CMX', 'VER', 'PUE', 'VER', 'CMX', 'PUE', 'CMX',\n",
        "    'OAX', 'CMX', 'PUE'\n",
        "]\n",
        "conteo_sucursales = {estado: estados.count(estado) for estado in set(estados)}\n",
        "\n",
        "print(conteo_sucursales)"
      ],
      "metadata": {
        "colab": {
          "base_uri": "https://localhost:8080/"
        },
        "id": "tneMc47IGAmE",
        "outputId": "b80e7f3a-a79a-4e77-fddc-1319d59af40e"
      },
      "execution_count": 10,
      "outputs": [
        {
          "output_type": "stream",
          "name": "stdout",
          "text": [
            "{'PUE': 7, 'OAX': 6, 'VER': 2, 'CMX': 8}\n"
          ]
        }
      ]
    },
    {
      "cell_type": "markdown",
      "source": [
        "10 - En esa misma tabla de registro de sucursales, hay una columna con la información de la cantidad de personas empleadas y el gerente quisiera tener un agrupamiento de la suma de esas personas para cada estado. Las informaciones contenidas en la tabla son:\n",
        "*  empleados = [('CMX', 16), ('OAX', 8), ('PUE', 9), ('PUE', 6), ('CMX', 10), ('PUE', 4), ('OAX',9),  ('OAX', 7), ('OAX', 12), ('CMX', 7), ('CMX', 11), ('PUE',8), ('OAX',8), ('CMX',9), ('VER', 13), ('PUE', 5),  ('VER', 9), ('CMX', 12), ('PUE', 10), ('CMX', 7), ('OAX', 14), ('CMX', 10), ('PUE', 12)]\n",
        "* A partir de la lista de tuplas, crea un diccionario en el que las claves son los nombres de los estados únicos y los valores son las listas con el número de empleados referentes al estado. También crea un diccionario en el que las claves son los nombres de los estados y los valores son la suma de empleados por estado."
      ],
      "metadata": {
        "id": "TLmWwbRvGU3s"
      }
    },
    {
      "cell_type": "code",
      "source": [
        "empleados = [\n",
        "    ('CMX', 16), ('OAX', 8), ('PUE', 9), ('PUE', 6), ('CMX', 10), ('PUE', 4),\n",
        "    ('OAX', 9), ('OAX', 7), ('OAX', 12), ('CMX', 7), ('CMX', 11), ('PUE', 8),\n",
        "    ('OAX', 8), ('CMX', 9), ('VER', 13), ('PUE', 5), ('VER', 9), ('CMX', 12),\n",
        "    ('PUE', 10), ('CMX', 7), ('OAX', 14), ('CMX', 10), ('PUE', 12)\n",
        "]\n",
        "\n",
        "empleados_por_estado = {}\n",
        "for estado, num_empleados in empleados:\n",
        "    if estado in empleados_por_estado:\n",
        "        empleados_por_estado[estado].append(num_empleados)\n",
        "    else:\n",
        "        empleados_por_estado[estado] = [num_empleados]\n",
        "\n",
        "suma_empleados_por_estado = {estado: sum(lista_empleados) for estado, lista_empleados in empleados_por_estado.items()}\n",
        "\n",
        "print(\"Diccionario de empleados por estado:\")\n",
        "print(empleados_por_estado)\n",
        "print(\"\\nDiccionario con la suma de empleados por estado:\")\n",
        "print(suma_empleados_por_estado)"
      ],
      "metadata": {
        "colab": {
          "base_uri": "https://localhost:8080/"
        },
        "id": "Ed7OGtCFGUe0",
        "outputId": "d3fa10fb-e228-4134-f3a4-04e2c98a3d1f"
      },
      "execution_count": 12,
      "outputs": [
        {
          "output_type": "stream",
          "name": "stdout",
          "text": [
            "Diccionario de empleados por estado:\n",
            "{'CMX': [16, 10, 7, 11, 9, 12, 7, 10], 'OAX': [8, 9, 7, 12, 8, 14], 'PUE': [9, 6, 4, 8, 5, 10, 12], 'VER': [13, 9]}\n",
            "\n",
            "Diccionario con la suma de empleados por estado:\n",
            "{'CMX': 82, 'OAX': 58, 'PUE': 54, 'VER': 22}\n"
          ]
        }
      ]
    }
  ]
}